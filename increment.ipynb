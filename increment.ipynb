{
 "cells": [
  {
   "cell_type": "code",
   "execution_count": null,
   "metadata": {
    "colab": {
     "base_uri": "https://localhost:8080/"
    },
    "executionInfo": {
     "elapsed": 23963,
     "status": "ok",
     "timestamp": 1747560537266,
     "user": {
      "displayName": "Samiksha Gariya",
      "userId": "03650219270827503100"
     },
     "user_tz": -330
    },
    "id": "v07VBFifmoSE",
    "outputId": "8177e6d5-571a-4101-caaa-2e6e139d60f2"
   },
   "outputs": [
    {
     "name": "stdout",
     "output_type": "stream",
     "text": [
      "Drive already mounted at /content/drive; to attempt to forcibly remount, call drive.mount(\"/content/drive\", force_remount=True).\n"
     ]
    }
   ],
   "source": [
    "from google.colab import drive\n",
    "drive.mount('/content/drive')"
   ]
  },
  {
   "cell_type": "code",
   "execution_count": null,
   "metadata": {
    "id": "uV5ICicIob7R"
   },
   "outputs": [],
   "source": [
    "import sys\n",
    "sys.path.append('/content/drive/MyDrive/Colab Notebook/lipnet')\n"
   ]
  },
  {
   "cell_type": "code",
   "execution_count": null,
   "metadata": {
    "id": "H3QULIh5P_VS"
   },
   "outputs": [],
   "source": [
    "import os\n",
    "import numpy as np\n",
    "import tensorflow as tf\n",
    "from model import build_model\n",
    "from utils import load_video, load_alignments, char_to_num\n",
    "\n",
    "BASE_PATH = '/content/drive/MyDrive/Colab Notebook/data'\n",
    "S1_SPEAKER = 's1'\n",
    "S2_SPEAKER = 's2'\n",
    "PRETRAINED_MODEL_PATH = '/content/drive/MyDrive/Colab Notebook/models/checkpoint.weights.h5'\n",
    "SAVE_PATH = '/content/drive/MyDrive/Colab Notebook/models/incremental_s1_to_s2_sgd_replay.weights.h5'\n",
    "\n",
    "BATCH_SIZE = 2\n",
    "EPOCHS = 10\n",
    "MAX_FRAMES = 75\n",
    "LEARNING_RATE = 1e-4\n",
    "REPLAY_RATIO = 0.1  \n",
    "\n",
    "# Function to load data from a specific speaker folder\n",
    "def load_speaker_data(speaker):\n",
    "    video_dir = os.path.join(BASE_PATH, speaker)         # directory with .mpg video files\n",
    "    align_dir = os.path.join(video_dir, 'align')         # directory with .align text files\n",
    "    X, Y, input_lens, label_lens = [], [], [], []        # initialize empty lists for video, labels, and sequence lengths\n",
    "\n",
    "    for file in os.listdir(video_dir):                   # iterate through all files in the video directory\n",
    "        if not file.endswith('.mpg'):\n",
    "            continue                                     # skip non-video files\n",
    "        base = file[:-4]                                 # remove .mpg extension\n",
    "        video_path = os.path.join(video_dir, f'{base}.mpg')  # full path to the video file\n",
    "        align_path = os.path.join(align_dir, f'{base}.align') # full path to the corresponding alignment file\n",
    "        if not os.path.exists(align_path):\n",
    "            continue                                     # skip if alignment file is missing\n",
    "\n",
    "        video = load_video(video_path)                   # load video as tensor (frames × H × W × C)\n",
    "        label = load_alignments(align_path)              # load text label as character sequence (converted to numbers)\n",
    "\n",
    "        X.append(video)\n",
    "        Y.append(label)\n",
    "        input_lens.append(MAX_FRAMES)                    # fixed length (75 frames)\n",
    "        label_lens.append(len(label))                    # number of characters in label\n",
    "\n",
    "    X = tf.ragged.stack(X).to_tensor()                   # convert variable-length videos to padded tensor\n",
    "    Y = tf.keras.preprocessing.sequence.pad_sequences(Y, padding='post')  # pad labels to equal length\n",
    "    input_lens = tf.convert_to_tensor(input_lens, dtype=tf.int32)[:, tf.newaxis]  # reshape for CTC\n",
    "    label_lens = tf.convert_to_tensor(label_lens, dtype=tf.int32)[:, tf.newaxis]  # reshape for CTC\n",
    "\n",
    "    return X, Y, input_lens, label_lens  # return processed inputs and labels\n",
    "\n"
   ]
  },
  {
   "cell_type": "code",
   "execution_count": null,
   "metadata": {
    "id": "kCGFITykQMcf"
   },
   "outputs": [],
   "source": [
    "# Creates a training model that includes a CTC loss layer\n",
    "def build_ctc_model(base_model):\n",
    "    video_input = base_model.input                        # input: (batch, 75, 46, 140, 1)\n",
    "    labels = tf.keras.Input(name='labels', shape=(None,), dtype='int32')         # label input\n",
    "    input_length = tf.keras.Input(name='input_length', shape=(1,), dtype='int32')  # video length (75)\n",
    "    label_length = tf.keras.Input(name='label_length', shape=(1,), dtype='int32')  # label length\n",
    "\n",
    "    y_pred = base_model.output  # model output: softmax character probabilities\n",
    "    # CTC loss calculation using Keras backend\n",
    "    loss_out = tf.keras.layers.Lambda(lambda args: tf.keras.backend.ctc_batch_cost(*args))(\n",
    "        [labels, y_pred, input_length, label_length]\n",
    "    )\n",
    "\n",
    "    # Returns a model that takes inputs and outputs a CTC loss\n",
    "    return tf.keras.Model(\n",
    "        inputs=[video_input, labels, input_length, label_length],\n",
    "        outputs=loss_out\n",
    "    )"
   ]
  },
  {
   "cell_type": "code",
   "execution_count": null,
   "metadata": {
    "id": "ZdANFJ_agg4F"
   },
   "outputs": [],
   "source": [
    "\n",
    "# TRAINING FUNCTION \n",
    "def train_incremental_model():\n",
    "    # Load data from both speakers\n",
    "    X_s1, Y_s1, in_s1, len_s1 = load_speaker_data(S1_SPEAKER)  # Pre-trained speaker\n",
    "    X_s2, Y_s2, in_s2, len_s2 = load_speaker_data(S2_SPEAKER)  # New speaker for fine-tuning\n",
    "\n",
    "    # Take a small subset from S1 for replay (e.g., 10% of S2's size)\n",
    "    n_replay = int(len(X_s2) * REPLAY_RATIO)\n",
    "    X_replay, Y_replay = X_s1[:n_replay], Y_s1[:n_replay]\n",
    "    in_replay, len_replay = in_s1[:n_replay], len_s1[:n_replay]\n",
    "\n",
    "    # Combine S2 and replayed S1 data for training\n",
    "    X_combined = tf.concat([X_s2, X_replay], axis=0)\n",
    "    Y_combined = tf.concat([Y_s2, Y_replay], axis=0)\n",
    "    in_combined = tf.concat([in_s2, in_replay], axis=0)\n",
    "    len_combined = tf.concat([len_s2, len_replay], axis=0)\n",
    "\n",
    "    # Dummy label required by tf for model.fit even though CTC loss is used\n",
    "    y = np.zeros((len(X_combined), 1))\n",
    "\n",
    "    # Create a tf.data.Dataset and batch it\n",
    "    dataset = tf.data.Dataset.from_tensor_slices(((X_combined, Y_combined, in_combined, len_combined), y))\n",
    "    dataset = dataset.shuffle(500).batch(BATCH_SIZE).prefetch(tf.data.AUTOTUNE)\n",
    "\n",
    "    # Load the base model and its pretrained weights\n",
    "    base_model = build_model()\n",
    "    base_model.load_weights(PRETRAINED_MODEL_PATH)\n",
    "    _ = base_model(tf.zeros([1, MAX_FRAMES, 46, 140, 1]))  # dummy input to initialize model shape\n",
    "\n",
    "    # Freeze early layers to retain original knowledge\n",
    "    for layer in base_model.layers[:6]:\n",
    "        layer.trainable = False"
   ]
  },
  {
   "cell_type": "code",
   "execution_count": null,
   "metadata": {
    "id": "fsgNpJeSg4sF"
   },
   "outputs": [],
   "source": [
    "# Build CTC loss model and compile it\n",
    "    training_model = build_ctc_model(base_model)\n",
    "    training_model.compile(\n",
    "        optimizer=tf.keras.optimizers.SGD(learning_rate=LEARNING_RATE, momentum=0.9),  # SGD for stable tuning\n",
    "        loss=lambda y_true, y_pred: y_pred  # because loss is computed inside model\n",
    "    )\n"
   ]
  },
  {
   "cell_type": "code",
   "execution_count": null,
   "metadata": {
    "id": "jvXsWdNcg6jg"
   },
   "outputs": [],
   "source": []
  },
  {
   "cell_type": "code",
   "execution_count": null,
   "metadata": {
    "colab": {
     "base_uri": "https://localhost:8080/"
    },
    "executionInfo": {
     "elapsed": 25,
     "status": "ok",
     "timestamp": 1747640929589,
     "user": {
      "displayName": "Samiksha Gariya",
      "userId": "03650219270827503100"
     },
     "user_tz": -330
    },
    "id": "0d2UKPA6g8c1",
    "outputId": "bcb9d1bf-9e97-4bcf-e5af-95591c5fe20d"
   },
   "outputs": [
    {
     "name": "stdout",
     "output_type": "stream",
     "text": [
      "Training complete.\n"
     ]
    }
   ],
   "source": [
    "\n",
    "   training_model.fit(dataset, epochs=EPOCHS)\n",
    "    print(\"Training complete.\")\n"
   ]
  },
  {
   "cell_type": "code",
   "execution_count": null,
   "metadata": {
    "id": "dTWD-S5bg-gt"
   },
   "outputs": [],
   "source": [
    "\n",
    "if __name__ == \"__main__\":\n",
    "    train_incremental_model()"
   ]
  },
  {
   "cell_type": "code",
   "execution_count": null,
   "metadata": {
    "id": "lSf06qqUhZrj"
   },
   "outputs": [],
   "source": [
    "import matplotlib.pyplot as plt\n",
    "\n",
    "    # Simulated accuracy data\n",
    "    stages = [\"After S1\", \"S2 (SGD only)\", \"S2 (Replay + SGD)\"]\n",
    "    s1_acc = [0.90, 0.50, 0.75]\n",
    "    s2_acc = [0.20, 0.85, 0.88]\n",
    "\n",
    "    x = range(len(stages))\n",
    "\n",
    "    plt.figure(figsize=(10, 6))\n",
    "    plt.plot(x, s1_acc, marker='o', label='S1 Accuracy')\n",
    "    plt.plot(x, s2_acc, marker='s', label='S2 Accuracy')\n",
    "    plt.xticks(x, stages)\n",
    "    plt.ylim(0, 1.05)\n",
    "    plt.title(\"Incremental Learning Accuracy on GRID Dataset\")\n",
    "    plt.xlabel(\"Training Stage\")\n",
    "    plt.ylabel(\"Accuracy\")\n",
    "    plt.grid(True)\n",
    "    plt.legend()\n",
    "    plt.tight_layout()\n",
    "    plt.show()\n",
    "\n"
   ]
  },
  {
   "cell_type": "markdown",
   "metadata": {
    "id": "MTbwOe6ziW0c"
   },
   "source": [
    "![Incremental Graph](https://drive.google.com/uc?id=1nVezZ-AG613Fp6CVWT0dPOszFFclp_9y)\n"
   ]
  },
  {
   "cell_type": "code",
   "execution_count": null,
   "metadata": {
    "colab": {
     "base_uri": "https://localhost:8080/"
    },
    "executionInfo": {
     "elapsed": 6682,
     "status": "ok",
     "timestamp": 1747642820064,
     "user": {
      "displayName": "Samiksha Gariya",
      "userId": "03650219270827503100"
     },
     "user_tz": -330
    },
    "id": "LTW5Y7hEoKY_",
    "outputId": "5ac48682-4a90-4f4b-9624-d5f8c9c5fc5e"
   },
   "outputs": [
    {
     "name": "stdout",
     "output_type": "stream",
     "text": [
      "Collecting levenshtein\n",
      "  Downloading levenshtein-0.27.1-cp311-cp311-manylinux_2_17_x86_64.manylinux2014_x86_64.whl.metadata (3.6 kB)\n",
      "Collecting rapidfuzz<4.0.0,>=3.9.0 (from levenshtein)\n",
      "  Downloading rapidfuzz-3.13.0-cp311-cp311-manylinux_2_17_x86_64.manylinux2014_x86_64.whl.metadata (12 kB)\n",
      "Downloading levenshtein-0.27.1-cp311-cp311-manylinux_2_17_x86_64.manylinux2014_x86_64.whl (161 kB)\n",
      "\u001b[2K   \u001b[90m━━━━━━━━━━━━━━━━━━━━━━━━━━━━━━━━━━━━━━━━\u001b[0m \u001b[32m161.7/161.7 kB\u001b[0m \u001b[31m5.8 MB/s\u001b[0m eta \u001b[36m0:00:00\u001b[0m\n",
      "\u001b[?25hDownloading rapidfuzz-3.13.0-cp311-cp311-manylinux_2_17_x86_64.manylinux2014_x86_64.whl (3.1 MB)\n",
      "\u001b[2K   \u001b[90m━━━━━━━━━━━━━━━━━━━━━━━━━━━━━━━━━━━━━━━━\u001b[0m \u001b[32m3.1/3.1 MB\u001b[0m \u001b[31m59.7 MB/s\u001b[0m eta \u001b[36m0:00:00\u001b[0m\n",
      "\u001b[?25hInstalling collected packages: rapidfuzz, levenshtein\n",
      "Successfully installed levenshtein-0.27.1 rapidfuzz-3.13.0\n"
     ]
    }
   ],
   "source": [
    "!pip install levenshtein"
   ]
  },
  {
   "cell_type": "code",
   "execution_count": 5,
   "metadata": {
    "executionInfo": {
     "elapsed": 27,
     "status": "ok",
     "timestamp": 1747643901393,
     "user": {
      "displayName": "Samiksha Gariya",
      "userId": "03650219270827503100"
     },
     "user_tz": -330
    },
    "id": "R9dCFskCiEmp"
   },
   "outputs": [],
   "source": [
    "import matplotlib.pyplot as plt\n",
    "\n",
    "ground_truth = \"place white in j three please\"\n",
    "prediction = \"place white at j tir please\"\n",
    "\n",
    "# === Levenshtein Distance Function ===\n",
    "def levenshtein(a: str, b: str) -> int:\n",
    "    dp = [[0] * (len(b) + 1) for _ in range(len(a) + 1)]\n",
    "    for i in range(len(a) + 1): dp[i][0] = i\n",
    "    for j in range(len(b) + 1): dp[0][j] = j\n",
    "    for i in range(1, len(a) + 1):\n",
    "        for j in range(1, len(b) + 1):\n",
    "            cost = 0 if a[i - 1] == b[j - 1] else 1\n",
    "            dp[i][j] = min(\n",
    "                dp[i - 1][j] + 1,\n",
    "                dp[i][j - 1] + 1,\n",
    "                dp[i - 1][j - 1] + cost\n",
    "            )\n",
    "    return dp[-1][-1]\n"
   ]
  },
  {
   "cell_type": "code",
   "execution_count": 6,
   "metadata": {
    "colab": {
     "base_uri": "https://localhost:8080/"
    },
    "executionInfo": {
     "elapsed": 59,
     "status": "ok",
     "timestamp": 1747643902101,
     "user": {
      "displayName": "Samiksha Gariya",
      "userId": "03650219270827503100"
     },
     "user_tz": -330
    },
    "id": "fPkFYZQEn317",
    "outputId": "d78bb4c3-2356-4fcc-d1c3-37343fd4bf63"
   },
   "outputs": [
    {
     "name": "stdout",
     "output_type": "stream",
     "text": [
      "~~~~~~~~~~~~~~~~~~~~~~~~~~~~~~~~~~~~~~~~~~~~~~~~~~~~~~~~~~~~~~~~~~~~~~~~~~~~~~~~~~~~~~~~~~~~~~~~~~~~\n",
      "GROUND TRUTH:  place white in j three please\n",
      "PREDICTION:    place white at j tir please\n",
      "LEVENSHTEIN DISTANCE:  5\n",
      "NORMALIZED DISTANCE:  0.172\n",
      "ESTIMATED ACCURACY:   82.76 %\n"
     ]
    }
   ],
   "source": [
    "\n",
    "# === Metrics ===\n",
    "lev_dist = levenshtein(ground_truth, prediction)\n",
    "normalized = lev_dist / max(len(ground_truth), 1)\n",
    "accuracy = 1.0 - normalized\n",
    "\n",
    "\n",
    "# === Print Summary ===\n",
    "print(\"~\" * 100)\n",
    "print(\"GROUND TRUTH: \", ground_truth)\n",
    "print(\"PREDICTION:   \", prediction)\n",
    "print(\"LEVENSHTEIN DISTANCE: \", lev_dist)\n",
    "print(\"NORMALIZED DISTANCE: \", round(normalized, 3))\n",
    "print(\"ESTIMATED ACCURACY:  \", round(accuracy * 100, 2), \"%\")"
   ]
  },
  {
   "cell_type": "code",
   "execution_count": 21,
   "metadata": {
    "colab": {
     "base_uri": "https://localhost:8080/",
     "height": 428
    },
    "executionInfo": {
     "elapsed": 859,
     "status": "ok",
     "timestamp": 1747644229335,
     "user": {
      "displayName": "Samiksha Gariya",
      "userId": "03650219270827503100"
     },
     "user_tz": -330
    },
    "id": "HCo5f2-En6Ti",
    "outputId": "c2915831-1339-4b14-ee22-363bb851de23"
   },
   "outputs": [
    {
     "data": {
      "image/png": "[encoded data removed]",
      "text/plain": [
       "<Figure size 600x400 with 1 Axes>"
      ]
     },
     "metadata": {},
     "output_type": "display_data"
    }
   ],
   "source": [
    "# === Visualization ===\n",
    "plt.figure(figsize=(6, 4))\n",
    "metrics = [\"Levenshtein\", \"Normalized\", \"Accuracy\"]\n",
    "values = [lev_dist, normalized, accuracy]\n",
    "colors = [\"skyblue\", \"lightgreen\", \"salmon\"]\n",
    "\n",
    "bars = plt.bar(metrics, values, color=colors)\n",
    "\n",
    "# Annotate bars\n",
    "for bar, score in zip(bars, values):\n",
    "    plt.text(bar.get_x() + bar.get_width() / 2,\n",
    "             bar.get_height() + 0.1,\n",
    "             f\"{score:.3f}\",\n",
    "             ha='center', va='bottom', fontsize=10)\n",
    "\n",
    "plt.ylim(0, max(2.5, lev_dist + 0.5))\n",
    "plt.ylabel(\"Score\")\n",
    "\n",
    "# Add extra space below plot\n",
    "plt.subplots_adjust(bottom=0.7)\n",
    "\n",
    "# Final bottom-centered title with clear separation\n",
    "plt.figtext(\n",
    "    0.5, -0.03,\n",
    "    \"Incremental Prediction Metrics\",\n",
    "    ha=\"center\", fontsize=11\n",
    ")\n",
    "\n",
    "plt.tight_layout()\n",
    "plt.show()"
   ]
  },
  {
   "cell_type": "code",
   "execution_count": 2,
   "metadata": {
    "id": "smFFGWFSoY_V"
   },
   "outputs": [
    {
     "name": "stdout",
     "output_type": "stream",
     "text": [
      "Requirement already satisfied: jiwer in c:\\users\\samiksha gariya\\appdata\\local\\programs\\python\\python310\\lib\\site-packages (3.1.0)\n",
      "Requirement already satisfied: click>=8.1.8 in c:\\users\\samiksha gariya\\appdata\\local\\programs\\python\\python310\\lib\\site-packages (from jiwer) (8.1.8)\n",
      "Requirement already satisfied: rapidfuzz>=3.9.7 in c:\\users\\samiksha gariya\\appdata\\local\\programs\\python\\python310\\lib\\site-packages (from jiwer) (3.13.0)\n",
      "Requirement already satisfied: colorama in c:\\users\\samiksha gariya\\appdata\\local\\programs\\python\\python310\\lib\\site-packages (from click>=8.1.8->jiwer) (0.4.6)\n"
     ]
    },
    {
     "name": "stderr",
     "output_type": "stream",
     "text": [
      "\n",
      "[notice] A new release of pip is available: 25.0.1 -> 25.1.1\n",
      "[notice] To update, run: python.exe -m pip install --upgrade pip\n"
     ]
    }
   ],
   "source": [
    "!pip install jiwer"
   ]
  },
  {
   "cell_type": "code",
   "execution_count": 8,
   "metadata": {
    "id": "smFFGWFSoY_V"
   },
   "outputs": [
    {
     "name": "stdout",
     "output_type": "stream",
     "text": [
      "   Sample #                 Ground Truth                     Prediction       WER\n",
      "0         1  place white at j tir please  place white in j three please  0.333333\n",
      "1         2      place white at j on son       place white in j one now  0.500000\n"
     ]
    },
    {
     "data": {
      "image/png": "[encoded data removed]",
      "text/plain": [
       "<Figure size 1000x500 with 1 Axes>"
      ]
     },
     "metadata": {},
     "output_type": "display_data"
    }
   ],
   "source": [
    "from jiwer import wer\n",
    "import pandas as pd\n",
    "import matplotlib.pyplot as plt\n",
    "\n",
    "# Replace these with your actual prediction and ground truth lists\n",
    "predictions = [\n",
    "    \"place white in j three please\",\n",
    "    \"place white in j one now\"\n",
    "]\n",
    "ground_truths = [\n",
    "   \"place white at j tir please\",\n",
    "    \"place white at j on son\"\n",
    "]\n",
    "\n",
    "# Compute WER for each pair\n",
    "wers = [wer(gt, pred) for gt, pred in zip(ground_truths, predictions)]\n",
    "# Allow wider display for DataFrames\n",
    "pd.set_option('display.max_colwidth', None)\n",
    "pd.set_option('display.width', 1000)\n",
    "\n",
    "# Create a DataFrame for analysis and plotting\n",
    "df_wer = pd.DataFrame({\n",
    "    \"Sample #\": range(1, len(predictions)+1),\n",
    "    \"Ground Truth\": ground_truths,\n",
    "    \"Prediction\": predictions,\n",
    "    \"WER\": wers\n",
    "})\n",
    "\n",
    "# Display the DataFrame\n",
    "print(df_wer)\n",
    "\n",
    "# Plot WER per sample\n",
    "plt.figure(figsize=(10, 5))\n",
    "plt.plot(df_wer[\"Sample #\"], df_wer[\"WER\"], marker='o', linestyle='-', color='teal')\n",
    "plt.title(\"Word Error Rate (WER) per Sample\")\n",
    "plt.xlabel(\"Sample #\")\n",
    "plt.ylabel(\"WER\")\n",
    "plt.ylim(0, 1)\n",
    "plt.grid(True)\n",
    "plt.show()\n"
   ]
  },
  {
   "cell_type": "code",
   "execution_count": 6,
   "metadata": {},
   "outputs": [
    {
     "name": "stdout",
     "output_type": "stream",
     "text": [
      "Predictions: 2\n",
      "Ground Truths: 1\n",
      "WERs: 1\n"
     ]
    }
   ],
   "source": [
    "print(\"Predictions:\", len(predictions))\n",
    "print(\"Ground Truths:\", len(ground_truths))\n",
    "print(\"WERs:\", len(wers))\n"
   ]
  },
  {
   "cell_type": "code",
   "execution_count": null,
   "metadata": {},
   "outputs": [],
   "source": []
  }
 ],
 "metadata": {
  "colab": {
   "authorship_tag": "ABX9TyN4vpa3RoTMv0W3eNDIOu/Z",
   "mount_file_id": "1_GEZW9tuZWTeOIr8glvyiV-AOlg_D9Dc",
   "provenance": []
  },
  "kernelspec": {
   "display_name": "Python 3 (ipykernel)",
   "language": "python",
   "name": "python3"
  },
  "language_info": {
   "codemirror_mode": {
    "name": "ipython",
    "version": 3
   },
   "file_extension": ".py",
   "mimetype": "text/x-python",
   "name": "python",
   "nbconvert_exporter": "python",
   "pygments_lexer": "ipython3",
   "version": "3.10.11"
  }
 },
 "nbformat": 4,
 "nbformat_minor": 4
}
