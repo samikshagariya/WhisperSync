{
 "cells": [
  {
   "cell_type": "markdown",
   "id": "50b489ae-c4f5-4be6-a48e-f3e26ab4a30d",
   "metadata": {
    "id": "50b489ae-c4f5-4be6-a48e-f3e26ab4a30d"
   },
   "source": [
    "# Install and import dependencies"
   ]
  },
  {
   "cell_type": "code",
   "execution_count": null,
   "id": "bkaZy6FdQUFb",
   "metadata": {
    "colab": {
     "base_uri": "https://localhost:8080/"
    },
    "executionInfo": {
     "elapsed": 4469,
     "status": "ok",
     "timestamp": 1747289274710,
     "user": {
      "displayName": "Samiksha Gariya",
      "userId": "03650219270827503100"
     },
     "user_tz": -330
    },
    "id": "bkaZy6FdQUFb",
    "outputId": "a881e541-5d1c-4097-ca25-ebe2cbdba69c"
   },
   "outputs": [
    {
     "name": "stdout",
     "output_type": "stream",
     "text": [
      "Drive already mounted at /content/drive; to attempt to forcibly remount, call drive.mount(\"/content/drive\", force_remount=True).\n"
     ]
    }
   ],
   "source": [
    "from google.colab import drive\n",
    "drive.mount('/content/drive')"
   ]
  },
  {
   "cell_type": "code",
   "execution_count": null,
   "id": "c9396487-2419-4752-9ec5-f512c3d1e272",
   "metadata": {
    "id": "c9396487-2419-4752-9ec5-f512c3d1e272"
   },
   "outputs": [],
   "source": [
    "import os\n",
    "import cv2\n",
    "import tensorflow as tf\n",
    "import numpy as np\n",
    "from matplotlib import pyplot as plt"
   ]
  },
  {
   "cell_type": "markdown",
   "id": "74266a8b",
   "metadata": {
    "id": "74266a8b"
   },
   "source": [
    "# Build data loading functions"
   ]
  },
  {
   "cell_type": "code",
   "execution_count": null,
   "id": "b6951d13",
   "metadata": {
    "id": "b6951d13"
   },
   "outputs": [],
   "source": [
    "#read all frames,crop lip areas. turns them to grayscale\n",
    "#This function loads a video from a given path and preprocesses the frames. The function returns a list of preprocessed frames.\n",
    "def load_video(path:str) :\n",
    "\n",
    "    # Open the video file\n",
    "    cap = cv2.VideoCapture(path)\n",
    "\n",
    "    # Initialize an empty list to store preprocessed frames\n",
    "    frames = []\n",
    "\n",
    "    # Iterate through each frame in the video\n",
    "    for _ in range(int(cap.get(cv2.CAP_PROP_FRAME_COUNT))):\n",
    "        ret, frame = cap.read()\n",
    "\n",
    "        # Convert the frame to grayscale\n",
    "        frame = tf.image.rgb_to_grayscale(frame)\n",
    "\n",
    "        # Crop the frame to focus only on the lips and append the preprocessed frame to the list\n",
    "        frames.append(frame[190:236,80:220,:])\n",
    "    cap.release()\n",
    "\n",
    "    # Calculate the mean and standard deviation of the frames\n",
    "    mean = tf.math.reduce_mean(frames)# average pixel value across all frames and all pixels\n",
    "    std = tf.math.reduce_std(tf.cast(frames, tf.float32))# measures how much the pixel values vary (how \"contrasty\" the frames are).\n",
    "\n",
    "\n",
    "    # Normalize the frames by subtracting the mean and dividing by the standard deviation\n",
    "    return tf.cast((frames - mean), tf.float32) / std\n"
   ]
  },
  {
   "cell_type": "code",
   "execution_count": null,
   "id": "eabf92f1",
   "metadata": {
    "id": "eabf92f1"
   },
   "outputs": [],
   "source": [
    "#list of major alphabets, numbers and special characters\n",
    "vocab = [x for x in \"abcdefghijklmnopqrstuvwxyz'?!123456789 \"]\n"
   ]
  },
  {
   "cell_type": "code",
   "execution_count": null,
   "id": "17ccdb84",
   "metadata": {
    "colab": {
     "base_uri": "https://localhost:8080/"
    },
    "executionInfo": {
     "elapsed": 772,
     "status": "ok",
     "timestamp": 1747281222171,
     "user": {
      "displayName": "Samiksha Gariya",
      "userId": "03650219270827503100"
     },
     "user_tz": -330
    },
    "id": "17ccdb84",
    "outputId": "64d99e5d-a193-4ddf-9462-95bc955f2a71"
   },
   "outputs": [
    {
     "name": "stdout",
     "output_type": "stream",
     "text": [
      "The vocabulary is: ['', np.str_('a'), np.str_('b'), np.str_('c'), np.str_('d'), np.str_('e'), np.str_('f'), np.str_('g'), np.str_('h'), np.str_('i'), np.str_('j'), np.str_('k'), np.str_('l'), np.str_('m'), np.str_('n'), np.str_('o'), np.str_('p'), np.str_('q'), np.str_('r'), np.str_('s'), np.str_('t'), np.str_('u'), np.str_('v'), np.str_('w'), np.str_('x'), np.str_('y'), np.str_('z'), np.str_(\"'\"), np.str_('?'), np.str_('!'), np.str_('1'), np.str_('2'), np.str_('3'), np.str_('4'), np.str_('5'), np.str_('6'), np.str_('7'), np.str_('8'), np.str_('9'), np.str_(' ')] (size =40)\n"
     ]
    }
   ],
   "source": [
    "#Create a StringLookup layer to map characters to integers\n",
    "char_to_num = tf.keras.layers.StringLookup(vocabulary=vocab, oov_token=\"\")\n",
    "#Create a StringLookup layer to map integers back to characters\n",
    "num_to_char = tf.keras.layers.StringLookup(\n",
    "    vocabulary=char_to_num.get_vocabulary(), oov_token=\"\", invert=True\n",
    ")\n",
    "\n",
    "#Print the vocabulary size and content of the StringLookup layer\n",
    "print(\n",
    "    f\"The vocabulary is: {char_to_num.get_vocabulary()} \"\n",
    "    f\"(size ={char_to_num.vocabulary_size()})\"\n",
    ")"
   ]
  },
  {
   "cell_type": "code",
   "execution_count": null,
   "id": "c4e91e51",
   "metadata": {
    "colab": {
     "base_uri": "https://localhost:8080/"
    },
    "executionInfo": {
     "elapsed": 73,
     "status": "ok",
     "timestamp": 1747281222248,
     "user": {
      "displayName": "Samiksha Gariya",
      "userId": "03650219270827503100"
     },
     "user_tz": -330
    },
    "id": "c4e91e51",
    "outputId": "7965f1ec-0b3a-4bf0-a5f3-7327f0bfb517"
   },
   "outputs": [
    {
     "data": {
      "text/plain": [
       "<tf.Tensor: shape=(5,), dtype=int64, numpy=array([19, 11,  1, 20, 25])>"
      ]
     },
     "execution_count": 9,
     "metadata": {},
     "output_type": "execute_result"
    }
   ],
   "source": [
    "char_to_num(['s','k','a','t','y'])"
   ]
  },
  {
   "cell_type": "code",
   "execution_count": null,
   "id": "1ebe1d84",
   "metadata": {
    "colab": {
     "base_uri": "https://localhost:8080/"
    },
    "executionInfo": {
     "elapsed": 30,
     "status": "ok",
     "timestamp": 1747281222284,
     "user": {
      "displayName": "Samiksha Gariya",
      "userId": "03650219270827503100"
     },
     "user_tz": -330
    },
    "id": "1ebe1d84",
    "outputId": "a6e9af42-3a76-4725-a4a8-925251bc7075"
   },
   "outputs": [
    {
     "data": {
      "text/plain": [
       "<tf.Tensor: shape=(5,), dtype=string, numpy=array([b's', b'k', b'a', b't', b'y'], dtype=object)>"
      ]
     },
     "execution_count": 10,
     "metadata": {},
     "output_type": "execute_result"
    }
   ],
   "source": [
    "num_to_char([19, 11,  1, 20, 25])"
   ]
  },
  {
   "cell_type": "code",
   "execution_count": null,
   "id": "26933b4b",
   "metadata": {
    "id": "26933b4b"
   },
   "outputs": [],
   "source": [
    "#This function reads the .align file for a video,Removes silent parts ('sil'),converts char to numbers\n",
    "#  Define a function to load alignments from a given path\n",
    "def load_alignments(path:str):\n",
    "    # Open the file in read mode and get all the lines\n",
    "    with open(path, 'r') as f:\n",
    "        lines = f.readlines()\n",
    "\n",
    "    # Initialize an empty list to hold the tokens\n",
    "    tokens = []\n",
    "\n",
    "    # Loop through each line in the file\n",
    "    for line in lines:\n",
    "        line = line.split() # Split the line into a list of words\n",
    "        if line[2] != 'sil': # If the third word in the line is not 'sil'\n",
    "            tokens = [*tokens,' ',line[2]] # Append a space and the third word to the tokens list\n",
    "\n",
    "    # Split the tokens into individual characters, convert them to numerical values using char_to_num, and return the result\n",
    "    return char_to_num(tf.reshape(tf.strings.unicode_split(tokens, input_encoding='UTF-8'), (-1)))[1:]"
   ]
  },
  {
   "cell_type": "code",
   "execution_count": null,
   "id": "bc585178",
   "metadata": {
    "id": "bc585178"
   },
   "outputs": [],
   "source": [
    "# loads processed videos and spoken words, used for training the model\n",
    "def load_data(path: str):\n",
    "    # Decode path from bytes to string\n",
    "    path = bytes.decode(path.numpy())\n",
    "    # Get the file name from the path and remove the file extension\n",
    "    file_name = path.split('/')[-1].split('.')[0]\n",
    "    # Build paths to video and alignment files\n",
    "    video_path = os.path.join('data','s1',f'{file_name}.mpg')\n",
    "    alignment_path = os.path.join('data','alignments','s1',f'{file_name}.align')\n",
    "    # Load video frames and text alignments\n",
    "    frames = load_video(video_path)\n",
    "    alignments = load_alignments(alignment_path)\n",
    "\n",
    "    return frames, alignments"
   ]
  },
  {
   "cell_type": "code",
   "execution_count": null,
   "id": "d5826e3c",
   "metadata": {
    "id": "d5826e3c"
   },
   "outputs": [],
   "source": [
    "test_path = './data/s1/bbal6n.mpg'"
   ]
  },
  {
   "cell_type": "code",
   "execution_count": null,
   "id": "2968e12c",
   "metadata": {
    "colab": {
     "base_uri": "https://localhost:8080/",
     "height": 35
    },
    "executionInfo": {
     "elapsed": 35,
     "status": "ok",
     "timestamp": 1747281222415,
     "user": {
      "displayName": "Samiksha Gariya",
      "userId": "03650219270827503100"
     },
     "user_tz": -330
    },
    "id": "2968e12c",
    "outputId": "b1ca6279-8d17-4117-d499-a91fb0d8ac55"
   },
   "outputs": [
    {
     "data": {
      "application/vnd.google.colaboratory.intrinsic+json": {
       "type": "string"
      },
      "text/plain": [
       "'bbal6n'"
      ]
     },
     "execution_count": 14,
     "metadata": {},
     "output_type": "execute_result"
    }
   ],
   "source": [
    "tf.convert_to_tensor(test_path).numpy().decode('utf-8').split('/')[-1].split('.')[0]"
   ]
  },
  {
   "cell_type": "code",
   "execution_count": null,
   "id": "65770dc8",
   "metadata": {
    "id": "65770dc8"
   },
   "outputs": [],
   "source": [
    "frames, alignments = load_data(tf.convert_to_tensor(test_path))"
   ]
  },
  {
   "cell_type": "code",
   "execution_count": null,
   "id": "b4514ad8",
   "metadata": {
    "colab": {
     "base_uri": "https://localhost:8080/",
     "height": 244
    },
    "executionInfo": {
     "elapsed": 316,
     "status": "ok",
     "timestamp": 1747281224223,
     "user": {
      "displayName": "Samiksha Gariya",
      "userId": "03650219270827503100"
     },
     "user_tz": -330
    },
    "id": "b4514ad8",
    "outputId": "7a2b77f8-ffd8-487c-88da-8aa4d25bd887"
   },
   "outputs": [
    {
     "data": {
      "text/plain": [
       "<matplotlib.image.AxesImage at 0x7d0ae166f910>"
      ]
     },
     "execution_count": 16,
     "metadata": {},
     "output_type": "execute_result"
    },
    {
     "data": {
      "image/png": "[encoded data removed]",
      "text/plain": [
       "<Figure size 640x480 with 1 Axes>"
      ]
     },
     "metadata": {},
     "output_type": "display_data"
    }
   ],
   "source": [
    "plt.imshow(frames[28])"
   ]
  },
  {
   "cell_type": "code",
   "execution_count": null,
   "id": "0663710b",
   "metadata": {
    "colab": {
     "base_uri": "https://localhost:8080/"
    },
    "executionInfo": {
     "elapsed": 45,
     "status": "ok",
     "timestamp": 1747281224271,
     "user": {
      "displayName": "Samiksha Gariya",
      "userId": "03650219270827503100"
     },
     "user_tz": -330
    },
    "id": "0663710b",
    "outputId": "f508ac42-cb4b-4505-e863-e72c5f2e1c50"
   },
   "outputs": [
    {
     "data": {
      "text/plain": [
       "<tf.Tensor: shape=(21,), dtype=int64, numpy=\n",
       "array([ 2,  9, 14, 39,  2, 12, 21,  5, 39,  1, 20, 39, 12, 39, 19,  9, 24,\n",
       "       39, 14, 15, 23])>"
      ]
     },
     "execution_count": 17,
     "metadata": {},
     "output_type": "execute_result"
    }
   ],
   "source": [
    "alignments"
   ]
  },
  {
   "cell_type": "code",
   "execution_count": null,
   "id": "e8d0ede5",
   "metadata": {
    "colab": {
     "base_uri": "https://localhost:8080/",
     "height": 35
    },
    "executionInfo": {
     "elapsed": 126,
     "status": "ok",
     "timestamp": 1747281224403,
     "user": {
      "displayName": "Samiksha Gariya",
      "userId": "03650219270827503100"
     },
     "user_tz": -330
    },
    "id": "e8d0ede5",
    "outputId": "0ffa9779-1532-4693-d7d2-cdfec4162261"
   },
   "outputs": [
    {
     "data": {
      "application/vnd.google.colaboratory.intrinsic+json": {
       "type": "string"
      },
      "text/plain": [
       "'bin blue at l six now'"
      ]
     },
     "execution_count": 18,
     "metadata": {},
     "output_type": "execute_result"
    }
   ],
   "source": [
    "tf.strings.reduce_join([bytes.decode(x) for x in num_to_char(alignments.numpy()).numpy()]).numpy().decode('utf-8')"
   ]
  },
  {
   "cell_type": "code",
   "execution_count": null,
   "id": "747f9930",
   "metadata": {
    "id": "747f9930"
   },
   "outputs": [],
   "source": [
    "def mappable_function(path:str) ->List[str]:\n",
    "    # Call the load_data function using TensorFlow's py_function, which can be used to wrap Python functions\n",
    "    # and make them usable inside a TensorFlow graph.\n",
    "    # This allows us to load and preprocess data in parallel with TensorFlow's data pipeline.\n",
    "    result = tf.py_function(load_data, [path], (tf.float32, tf.int64))\n",
    "    # Return the loaded and preprocessed data\n",
    "    return result"
   ]
  },
  {
   "cell_type": "markdown",
   "id": "e4087aa7",
   "metadata": {
    "id": "e4087aa7"
   },
   "source": [
    "# Create data pipeline"
   ]
  },
  {
   "cell_type": "code",
   "execution_count": null,
   "id": "0468a579",
   "metadata": {
    "id": "0468a579"
   },
   "outputs": [],
   "source": [
    "#load all video files,converts each video and label to tensors\n",
    "# Get list of file paths for all videos\n",
    "data = tf.data.Dataset.list_files('./data/s1/*.mpg')\n",
    "# Shuffle the order of the videos\n",
    "data = data.shuffle(500, reshuffle_each_iteration=False)\n",
    "# Map the load_data function to each file path and get frames and alignments\n",
    "data = data.map(mappable_function)\n",
    "# Padded batch of 2 videos, with frames padded to 75 frames and alignments padded to 40 characters\n",
    "data = data.padded_batch(2, padded_shapes=([75,None,None,None],[40]))\n",
    "# Prefetch to optimize for performance\n",
    "data = data.prefetch(tf.data.AUTOTUNE)\n",
    "# Split the data into train and test sets\n",
    "train = data.take(450)\n",
    "test = data.skip(450)"
   ]
  },
  {
   "cell_type": "code",
   "execution_count": null,
   "id": "93ed1c20-cee0-4763-8c8a-6d66de82d208",
   "metadata": {
    "colab": {
     "base_uri": "https://localhost:8080/"
    },
    "executionInfo": {
     "elapsed": 25,
     "status": "ok",
     "timestamp": 1747281224676,
     "user": {
      "displayName": "Samiksha Gariya",
      "userId": "03650219270827503100"
     },
     "user_tz": -330
    },
    "id": "93ed1c20-cee0-4763-8c8a-6d66de82d208",
    "outputId": "c5e2b7c9-d9c4-4f1c-bf0e-67b18f361a87"
   },
   "outputs": [
    {
     "data": {
      "text/plain": [
       "50"
      ]
     },
     "execution_count": 21,
     "metadata": {},
     "output_type": "execute_result"
    }
   ],
   "source": [
    "len(test)\n"
   ]
  },
  {
   "cell_type": "code",
   "execution_count": null,
   "id": "cf36ef14",
   "metadata": {
    "id": "cf36ef14"
   },
   "outputs": [],
   "source": [
    "frames, alignments = data.as_numpy_iterator().next()\n"
   ]
  },
  {
   "cell_type": "code",
   "execution_count": null,
   "id": "f7addd0d",
   "metadata": {
    "colab": {
     "base_uri": "https://localhost:8080/"
    },
    "executionInfo": {
     "elapsed": 60,
     "status": "ok",
     "timestamp": 1747281225264,
     "user": {
      "displayName": "Samiksha Gariya",
      "userId": "03650219270827503100"
     },
     "user_tz": -330
    },
    "id": "f7addd0d",
    "outputId": "b34bb88b-6233-4a05-c9fe-5975233a7bdf"
   },
   "outputs": [
    {
     "data": {
      "text/plain": [
       "2"
      ]
     },
     "execution_count": 23,
     "metadata": {},
     "output_type": "execute_result"
    }
   ],
   "source": [
    "len(frames)\n"
   ]
  },
  {
   "cell_type": "code",
   "execution_count": null,
   "id": "42dddfa2-54ba-49a4-b5fc-e4aa75ce106e",
   "metadata": {
    "id": "42dddfa2-54ba-49a4-b5fc-e4aa75ce106e"
   },
   "outputs": [],
   "source": [
    "sample = data.as_numpy_iterator()\n"
   ]
  },
  {
   "cell_type": "code",
   "execution_count": null,
   "id": "b5a3b9a4-1378-48e0-b076-5f6a5dea6755",
   "metadata": {
    "colab": {
     "base_uri": "https://localhost:8080/"
    },
    "executionInfo": {
     "elapsed": 472,
     "status": "ok",
     "timestamp": 1747281225754,
     "user": {
      "displayName": "Samiksha Gariya",
      "userId": "03650219270827503100"
     },
     "user_tz": -330
    },
    "id": "b5a3b9a4-1378-48e0-b076-5f6a5dea6755",
    "outputId": "3d99609d-3e3f-4df8-b655-eaee7eef900f",
    "scrolled": true,
    "tags": []
   },
   "outputs": [
    {
     "data": {
      "text/plain": [
       "array([[[[[1.3985687 ],\n",
       "          [1.3985687 ],\n",
       "          [1.4721776 ],\n",
       "          ...,\n",
       "          [0.29443553],\n",
       "          [0.33123997],\n",
       "          [0.33123997]],\n",
       "\n",
       "         [[1.2881554 ],\n",
       "          [1.3985687 ],\n",
       "          [1.5457866 ],\n",
       "          ...,\n",
       "          [0.29443553],\n",
       "          [0.33123997],\n",
       "          [0.33123997]],\n",
       "\n",
       "         [[1.4353732 ],\n",
       "          [1.4353732 ],\n",
       "          [1.4353732 ],\n",
       "          ...,\n",
       "          [0.33123997],\n",
       "          [0.2576311 ],\n",
       "          [0.2576311 ]],\n",
       "\n",
       "         ...,\n",
       "\n",
       "         [[1.0673288 ],\n",
       "          [1.0305244 ],\n",
       "          [1.0305244 ],\n",
       "          ...,\n",
       "          [0.07360888],\n",
       "          [0.03680444],\n",
       "          [0.03680444]],\n",
       "\n",
       "         [[1.0305244 ],\n",
       "          [1.0305244 ],\n",
       "          [1.0305244 ],\n",
       "          ...,\n",
       "          [0.07360888],\n",
       "          [0.03680444],\n",
       "          [0.03680444]],\n",
       "\n",
       "         [[1.0305244 ],\n",
       "          [1.0305244 ],\n",
       "          [1.0305244 ],\n",
       "          ...,\n",
       "          [0.07360888],\n",
       "          [0.03680444],\n",
       "          [0.03680444]]],\n",
       "\n",
       "\n",
       "        [[[1.4721776 ],\n",
       "          [1.4721776 ],\n",
       "          [1.4721776 ],\n",
       "          ...,\n",
       "          [0.33123997],\n",
       "          [0.33123997],\n",
       "          [0.33123997]],\n",
       "\n",
       "         [[1.3617643 ],\n",
       "          [1.2881554 ],\n",
       "          [1.3249599 ],\n",
       "          ...,\n",
       "          [0.33123997],\n",
       "          [0.33123997],\n",
       "          [0.33123997]],\n",
       "\n",
       "         [[1.3985687 ],\n",
       "          [1.3985687 ],\n",
       "          [1.4353732 ],\n",
       "          ...,\n",
       "          [0.29443553],\n",
       "          [0.29443553],\n",
       "          [0.29443553]],\n",
       "\n",
       "         ...,\n",
       "\n",
       "         [[1.0673288 ],\n",
       "          [1.0305244 ],\n",
       "          [1.0305244 ],\n",
       "          ...,\n",
       "          [0.11041333],\n",
       "          [0.07360888],\n",
       "          [0.07360888]],\n",
       "\n",
       "         [[1.0305244 ],\n",
       "          [1.0305244 ],\n",
       "          [1.0305244 ],\n",
       "          ...,\n",
       "          [0.11041333],\n",
       "          [0.07360888],\n",
       "          [0.07360888]],\n",
       "\n",
       "         [[1.0305244 ],\n",
       "          [1.0305244 ],\n",
       "          [0.99371994],\n",
       "          ...,\n",
       "          [0.07360888],\n",
       "          [0.03680444],\n",
       "          [0.03680444]]],\n",
       "\n",
       "\n",
       "        [[[1.4721776 ],\n",
       "          [1.4721776 ],\n",
       "          [1.3985687 ],\n",
       "          ...,\n",
       "          [0.3680444 ],\n",
       "          [0.33123997],\n",
       "          [0.33123997]],\n",
       "\n",
       "         [[1.3617643 ],\n",
       "          [1.2881554 ],\n",
       "          [1.251351  ],\n",
       "          ...,\n",
       "          [0.3680444 ],\n",
       "          [0.33123997],\n",
       "          [0.33123997]],\n",
       "\n",
       "         [[1.4353732 ],\n",
       "          [1.4353732 ],\n",
       "          [1.4353732 ],\n",
       "          ...,\n",
       "          [0.22082666],\n",
       "          [0.29443553],\n",
       "          [0.29443553]],\n",
       "\n",
       "         ...,\n",
       "\n",
       "         [[1.0305244 ],\n",
       "          [0.99371994],\n",
       "          [0.99371994],\n",
       "          ...,\n",
       "          [0.11041333],\n",
       "          [0.11041333],\n",
       "          [0.11041333]],\n",
       "\n",
       "         [[0.99371994],\n",
       "          [0.99371994],\n",
       "          [0.99371994],\n",
       "          ...,\n",
       "          [0.11041333],\n",
       "          [0.07360888],\n",
       "          [0.07360888]],\n",
       "\n",
       "         [[0.99371994],\n",
       "          [0.99371994],\n",
       "          [0.9569155 ],\n",
       "          ...,\n",
       "          [0.07360888],\n",
       "          [0.07360888],\n",
       "          [0.07360888]]],\n",
       "\n",
       "\n",
       "        ...,\n",
       "\n",
       "\n",
       "        [[[1.3985687 ],\n",
       "          [1.4721776 ],\n",
       "          [1.3617643 ],\n",
       "          ...,\n",
       "          [0.29443553],\n",
       "          [0.3680444 ],\n",
       "          [0.3680444 ]],\n",
       "\n",
       "         [[1.3617643 ],\n",
       "          [1.4721776 ],\n",
       "          [1.3249599 ],\n",
       "          ...,\n",
       "          [0.29443553],\n",
       "          [0.3680444 ],\n",
       "          [0.3680444 ]],\n",
       "\n",
       "         [[1.5457866 ],\n",
       "          [1.5457866 ],\n",
       "          [1.5089822 ],\n",
       "          ...,\n",
       "          [0.40484887],\n",
       "          [0.40484887],\n",
       "          [0.40484887]],\n",
       "\n",
       "         ...,\n",
       "\n",
       "         [[1.0305244 ],\n",
       "          [0.99371994],\n",
       "          [0.99371994],\n",
       "          ...,\n",
       "          [0.11041333],\n",
       "          [0.07360888],\n",
       "          [0.07360888]],\n",
       "\n",
       "         [[0.99371994],\n",
       "          [0.99371994],\n",
       "          [0.99371994],\n",
       "          ...,\n",
       "          [0.11041333],\n",
       "          [0.07360888],\n",
       "          [0.07360888]],\n",
       "\n",
       "         [[0.99371994],\n",
       "          [0.99371994],\n",
       "          [0.99371994],\n",
       "          ...,\n",
       "          [0.07360888],\n",
       "          [0.07360888],\n",
       "          [0.03680444]]],\n",
       "\n",
       "\n",
       "        [[[1.4721776 ],\n",
       "          [1.4721776 ],\n",
       "          [1.3985687 ],\n",
       "          ...,\n",
       "          [0.33123997],\n",
       "          [0.2576311 ],\n",
       "          [0.2576311 ]],\n",
       "\n",
       "         [[1.4721776 ],\n",
       "          [1.4353732 ],\n",
       "          [1.3985687 ],\n",
       "          ...,\n",
       "          [0.33123997],\n",
       "          [0.2576311 ],\n",
       "          [0.2576311 ]],\n",
       "\n",
       "         [[1.4353732 ],\n",
       "          [1.4353732 ],\n",
       "          [1.4721776 ],\n",
       "          ...,\n",
       "          [0.33123997],\n",
       "          [0.3680444 ],\n",
       "          [0.3680444 ]],\n",
       "\n",
       "         ...,\n",
       "\n",
       "         [[1.0305244 ],\n",
       "          [0.99371994],\n",
       "          [0.99371994],\n",
       "          ...,\n",
       "          [0.07360888],\n",
       "          [0.03680444],\n",
       "          [0.03680444]],\n",
       "\n",
       "         [[0.99371994],\n",
       "          [0.99371994],\n",
       "          [0.99371994],\n",
       "          ...,\n",
       "          [0.07360888],\n",
       "          [0.03680444],\n",
       "          [0.03680444]],\n",
       "\n",
       "         [[0.99371994],\n",
       "          [0.99371994],\n",
       "          [0.99371994],\n",
       "          ...,\n",
       "          [0.03680444],\n",
       "          [0.03680444],\n",
       "          [0.        ]]],\n",
       "\n",
       "\n",
       "        [[[0.        ],\n",
       "          [0.        ],\n",
       "          [0.        ],\n",
       "          ...,\n",
       "          [0.        ],\n",
       "          [0.        ],\n",
       "          [0.        ]],\n",
       "\n",
       "         [[0.        ],\n",
       "          [0.        ],\n",
       "          [0.        ],\n",
       "          ...,\n",
       "          [0.        ],\n",
       "          [0.        ],\n",
       "          [0.        ]],\n",
       "\n",
       "         [[0.        ],\n",
       "          [0.        ],\n",
       "          [0.        ],\n",
       "          ...,\n",
       "          [0.        ],\n",
       "          [0.        ],\n",
       "          [0.        ]],\n",
       "\n",
       "         ...,\n",
       "\n",
       "         [[0.        ],\n",
       "          [0.        ],\n",
       "          [0.        ],\n",
       "          ...,\n",
       "          [0.        ],\n",
       "          [0.        ],\n",
       "          [0.        ]],\n",
       "\n",
       "         [[0.        ],\n",
       "          [0.        ],\n",
       "          [0.        ],\n",
       "          ...,\n",
       "          [0.        ],\n",
       "          [0.        ],\n",
       "          [0.        ]],\n",
       "\n",
       "         [[0.        ],\n",
       "          [0.        ],\n",
       "          [0.        ],\n",
       "          ...,\n",
       "          [0.        ],\n",
       "          [0.        ],\n",
       "          [0.        ]]]],\n",
       "\n",
       "\n",
       "\n",
       "       [[[[1.5011237 ],\n",
       "          [1.4645108 ],\n",
       "          [1.4645108 ],\n",
       "          ...,\n",
       "          [0.43935326],\n",
       "          [0.43935326],\n",
       "          [0.43935326]],\n",
       "\n",
       "         [[1.5377364 ],\n",
       "          [1.4645108 ],\n",
       "          [1.3912853 ],\n",
       "          ...,\n",
       "          [0.43935326],\n",
       "          [0.43935326],\n",
       "          [0.43935326]],\n",
       "\n",
       "         [[1.5011237 ],\n",
       "          [1.5011237 ],\n",
       "          [1.5011237 ],\n",
       "          ...,\n",
       "          [0.32951495],\n",
       "          [0.32951495],\n",
       "          [0.32951495]],\n",
       "\n",
       "         ...,\n",
       "\n",
       "         [[1.0983832 ],\n",
       "          [1.0617703 ],\n",
       "          [1.0617703 ],\n",
       "          ...,\n",
       "          [0.10983831],\n",
       "          [0.10983831],\n",
       "          [0.10983831]],\n",
       "\n",
       "         [[1.0617703 ],\n",
       "          [1.0617703 ],\n",
       "          [1.0617703 ],\n",
       "          ...,\n",
       "          [0.07322554],\n",
       "          [0.07322554],\n",
       "          [0.07322554]],\n",
       "\n",
       "         [[1.0617703 ],\n",
       "          [1.0617703 ],\n",
       "          [1.0617703 ],\n",
       "          ...,\n",
       "          [0.03661277],\n",
       "          [0.03661277],\n",
       "          [0.03661277]]],\n",
       "\n",
       "\n",
       "        [[[1.5743492 ],\n",
       "          [1.5377364 ],\n",
       "          [1.5011237 ],\n",
       "          ...,\n",
       "          [0.3661277 ],\n",
       "          [0.40274048],\n",
       "          [0.40274048]],\n",
       "\n",
       "         [[1.6475747 ],\n",
       "          [1.5743492 ],\n",
       "          [1.4645108 ],\n",
       "          ...,\n",
       "          [0.3661277 ],\n",
       "          [0.40274048],\n",
       "          [0.40274048]],\n",
       "\n",
       "         [[1.3912853 ],\n",
       "          [1.3912853 ],\n",
       "          [1.427898  ],\n",
       "          ...,\n",
       "          [0.3661277 ],\n",
       "          [0.3661277 ],\n",
       "          [0.3661277 ]],\n",
       "\n",
       "         ...,\n",
       "\n",
       "         [[1.0983832 ],\n",
       "          [1.0617703 ],\n",
       "          [1.0617703 ],\n",
       "          ...,\n",
       "          [0.07322554],\n",
       "          [0.07322554],\n",
       "          [0.07322554]],\n",
       "\n",
       "         [[1.0617703 ],\n",
       "          [1.0617703 ],\n",
       "          [1.0617703 ],\n",
       "          ...,\n",
       "          [0.07322554],\n",
       "          [0.03661277],\n",
       "          [0.03661277]],\n",
       "\n",
       "         [[1.0617703 ],\n",
       "          [1.0617703 ],\n",
       "          [1.0617703 ],\n",
       "          ...,\n",
       "          [0.03661277],\n",
       "          [0.03661277],\n",
       "          [0.        ]]],\n",
       "\n",
       "\n",
       "        [[[1.5011237 ],\n",
       "          [1.4645108 ],\n",
       "          [1.5011237 ],\n",
       "          ...,\n",
       "          [0.40274048],\n",
       "          [0.40274048],\n",
       "          [0.40274048]],\n",
       "\n",
       "         [[1.5743492 ],\n",
       "          [1.4645108 ],\n",
       "          [1.3546726 ],\n",
       "          ...,\n",
       "          [0.40274048],\n",
       "          [0.40274048],\n",
       "          [0.40274048]],\n",
       "\n",
       "         [[1.4645108 ],\n",
       "          [1.4645108 ],\n",
       "          [1.427898  ],\n",
       "          ...,\n",
       "          [0.3661277 ],\n",
       "          [0.3661277 ],\n",
       "          [0.32951495]],\n",
       "\n",
       "         ...,\n",
       "\n",
       "         [[1.0983832 ],\n",
       "          [1.0617703 ],\n",
       "          [1.0617703 ],\n",
       "          ...,\n",
       "          [0.07322554],\n",
       "          [0.07322554],\n",
       "          [0.07322554]],\n",
       "\n",
       "         [[1.0617703 ],\n",
       "          [1.0617703 ],\n",
       "          [1.0617703 ],\n",
       "          ...,\n",
       "          [0.07322554],\n",
       "          [0.07322554],\n",
       "          [0.03661277]],\n",
       "\n",
       "         [[1.0617703 ],\n",
       "          [1.0617703 ],\n",
       "          [1.0617703 ],\n",
       "          ...,\n",
       "          [0.03661277],\n",
       "          [0.03661277],\n",
       "          [0.03661277]]],\n",
       "\n",
       "\n",
       "        ...,\n",
       "\n",
       "\n",
       "        [[[1.427898  ],\n",
       "          [1.427898  ],\n",
       "          [1.4645108 ],\n",
       "          ...,\n",
       "          [0.40274048],\n",
       "          [0.40274048],\n",
       "          [0.40274048]],\n",
       "\n",
       "         [[1.3546726 ],\n",
       "          [1.3546726 ],\n",
       "          [1.4645108 ],\n",
       "          ...,\n",
       "          [0.40274048],\n",
       "          [0.40274048],\n",
       "          [0.40274048]],\n",
       "\n",
       "         [[1.4645108 ],\n",
       "          [1.4645108 ],\n",
       "          [1.5377364 ],\n",
       "          ...,\n",
       "          [0.32951495],\n",
       "          [0.32951495],\n",
       "          [0.32951495]],\n",
       "\n",
       "         ...,\n",
       "\n",
       "         [[1.0617703 ],\n",
       "          [1.0617703 ],\n",
       "          [1.0251576 ],\n",
       "          ...,\n",
       "          [0.        ],\n",
       "          [0.        ],\n",
       "          [0.        ]],\n",
       "\n",
       "         [[1.0617703 ],\n",
       "          [1.0617703 ],\n",
       "          [1.0251576 ],\n",
       "          ...,\n",
       "          [0.        ],\n",
       "          [0.        ],\n",
       "          [0.        ]],\n",
       "\n",
       "         [[1.0617703 ],\n",
       "          [1.0617703 ],\n",
       "          [1.0251576 ],\n",
       "          ...,\n",
       "          [0.        ],\n",
       "          [0.        ],\n",
       "          [0.        ]]],\n",
       "\n",
       "\n",
       "        [[[1.3912853 ],\n",
       "          [1.4645108 ],\n",
       "          [1.427898  ],\n",
       "          ...,\n",
       "          [0.3661277 ],\n",
       "          [0.3661277 ],\n",
       "          [0.3661277 ]],\n",
       "\n",
       "         [[1.3546726 ],\n",
       "          [1.4645108 ],\n",
       "          [1.427898  ],\n",
       "          ...,\n",
       "          [0.3661277 ],\n",
       "          [0.3661277 ],\n",
       "          [0.3661277 ]],\n",
       "\n",
       "         [[1.4645108 ],\n",
       "          [1.4645108 ],\n",
       "          [1.5377364 ],\n",
       "          ...,\n",
       "          [0.3661277 ],\n",
       "          [0.3661277 ],\n",
       "          [0.3661277 ]],\n",
       "\n",
       "         ...,\n",
       "\n",
       "         [[1.0617703 ],\n",
       "          [1.0617703 ],\n",
       "          [1.0251576 ],\n",
       "          ...,\n",
       "          [0.03661277],\n",
       "          [0.03661277],\n",
       "          [0.        ]],\n",
       "\n",
       "         [[1.0617703 ],\n",
       "          [1.0617703 ],\n",
       "          [1.0251576 ],\n",
       "          ...,\n",
       "          [0.03661277],\n",
       "          [0.        ],\n",
       "          [0.        ]],\n",
       "\n",
       "         [[1.0617703 ],\n",
       "          [1.0617703 ],\n",
       "          [1.0251576 ],\n",
       "          ...,\n",
       "          [0.        ],\n",
       "          [0.        ],\n",
       "          [0.        ]]],\n",
       "\n",
       "\n",
       "        [[[1.427898  ],\n",
       "          [1.5377364 ],\n",
       "          [1.3912853 ],\n",
       "          ...,\n",
       "          [0.3661277 ],\n",
       "          [0.3661277 ],\n",
       "          [0.3661277 ]],\n",
       "\n",
       "         [[1.5011237 ],\n",
       "          [1.5377364 ],\n",
       "          [1.427898  ],\n",
       "          ...,\n",
       "          [0.40274048],\n",
       "          [0.40274048],\n",
       "          [0.40274048]],\n",
       "\n",
       "         [[1.427898  ],\n",
       "          [1.427898  ],\n",
       "          [1.427898  ],\n",
       "          ...,\n",
       "          [0.40274048],\n",
       "          [0.3661277 ],\n",
       "          [0.3661277 ]],\n",
       "\n",
       "         ...,\n",
       "\n",
       "         [[1.0983832 ],\n",
       "          [1.0983832 ],\n",
       "          [1.0251576 ],\n",
       "          ...,\n",
       "          [0.10983831],\n",
       "          [0.03661277],\n",
       "          [0.        ]],\n",
       "\n",
       "         [[1.0983832 ],\n",
       "          [1.0983832 ],\n",
       "          [1.0251576 ],\n",
       "          ...,\n",
       "          [0.07322554],\n",
       "          [0.        ],\n",
       "          [0.        ]],\n",
       "\n",
       "         [[1.0983832 ],\n",
       "          [1.0983832 ],\n",
       "          [1.0251576 ],\n",
       "          ...,\n",
       "          [0.03661277],\n",
       "          [0.        ],\n",
       "          [0.        ]]]]], dtype=float32)"
      ]
     },
     "execution_count": 25,
     "metadata": {},
     "output_type": "execute_result"
    }
   ],
   "source": [
    "val = sample.next(); val[0]\n"
   ]
  },
  {
   "cell_type": "code",
   "execution_count": null,
   "id": "504b34f8-dead-47ab-adc6-6219942c1135",
   "metadata": {
    "colab": {
     "base_uri": "https://localhost:8080/",
     "height": 244
    },
    "executionInfo": {
     "elapsed": 312,
     "status": "ok",
     "timestamp": 1747281226069,
     "user": {
      "displayName": "Samiksha Gariya",
      "userId": "03650219270827503100"
     },
     "user_tz": -330
    },
    "id": "504b34f8-dead-47ab-adc6-6219942c1135",
    "outputId": "00be875a-7e42-49ac-d380-ad7864d44f66"
   },
   "outputs": [
    {
     "data": {
      "text/plain": [
       "<matplotlib.image.AxesImage at 0x7d0ae15d71d0>"
      ]
     },
     "execution_count": 26,
     "metadata": {},
     "output_type": "execute_result"
    },
    {
     "data": {
      "image/png": "[encoded data removed]",
      "text/plain": [
       "<Figure size 640x480 with 1 Axes>"
      ]
     },
     "metadata": {},
     "output_type": "display_data"
    }
   ],
   "source": [
    "plt.imshow(val[0][0][35])\n"
   ]
  },
  {
   "cell_type": "code",
   "execution_count": null,
   "id": "5a14a95c-1567-47e0-8d3c-4c63c268f3e8",
   "metadata": {
    "colab": {
     "base_uri": "https://localhost:8080/"
    },
    "executionInfo": {
     "elapsed": 111,
     "status": "ok",
     "timestamp": 1747281226208,
     "user": {
      "displayName": "Samiksha Gariya",
      "userId": "03650219270827503100"
     },
     "user_tz": -330
    },
    "id": "5a14a95c-1567-47e0-8d3c-4c63c268f3e8",
    "outputId": "1f4bdec0-f0d1-4b9d-c15c-b80d69aa2704"
   },
   "outputs": [
    {
     "data": {
      "text/plain": [
       "<tf.Tensor: shape=(), dtype=string, numpy=b'set white at o seven again'>"
      ]
     },
     "execution_count": 27,
     "metadata": {},
     "output_type": "execute_result"
    }
   ],
   "source": [
    "tf.strings.reduce_join([num_to_char(word) for word in val[1][0]])\n"
   ]
  },
  {
   "cell_type": "markdown",
   "id": "4e224dcb-3004-49fb-aff0-f23803abe29b",
   "metadata": {
    "id": "4e224dcb-3004-49fb-aff0-f23803abe29b"
   },
   "source": [
    "# Design the deep neural network"
   ]
  },
  {
   "cell_type": "code",
   "execution_count": null,
   "id": "119eae9b-ce08-462b-9b63-ce8cd89ca3a8",
   "metadata": {
    "id": "119eae9b-ce08-462b-9b63-ce8cd89ca3a8"
   },
   "outputs": [],
   "source": [
    "import os\n",
    "import tensorflow as tf\n",
    "from tensorflow.keras.models import Sequential\n",
    "from tensorflow.keras.layers import Conv3D, Activation, MaxPool3D, TimeDistributed, GlobalAveragePooling2D\n",
    "from tensorflow.keras.layers import Bidirectional, LSTM, Dropout, Dense\n",
    "from tensorflow.keras.optimizers import Adam\n",
    "from tensorflow.keras.callbacks import ModelCheckpoint, LearningRateScheduler, EarlyStopping\n"
   ]
  },
  {
   "cell_type": "code",
   "execution_count": null,
   "id": "5ca6784d-4a01-4294-9555-daaac5c6f605",
   "metadata": {
    "colab": {
     "base_uri": "https://localhost:8080/"
    },
    "executionInfo": {
     "elapsed": 937,
     "status": "ok",
     "timestamp": 1747281227171,
     "user": {
      "displayName": "Samiksha Gariya",
      "userId": "03650219270827503100"
     },
     "user_tz": -330
    },
    "id": "5ca6784d-4a01-4294-9555-daaac5c6f605",
    "outputId": "4bc4e839-c485-4385-9d20-7b43764d2e21"
   },
   "outputs": [
    {
     "data": {
      "text/plain": [
       "(75, 46, 140, 1)"
      ]
     },
     "execution_count": 29,
     "metadata": {},
     "output_type": "execute_result"
    }
   ],
   "source": [
    "data.as_numpy_iterator().next()[0][0].shape\n"
   ]
  },
  {
   "cell_type": "code",
   "execution_count": null,
   "id": "093a1f33-6059-4b6f-91a0-a2e597ac88d2",
   "metadata": {
    "id": "093a1f33-6059-4b6f-91a0-a2e597ac88d2"
   },
   "outputs": [],
   "source": [
    "#  Model Architecture \n",
    "def build_model(char_to_num):\n",
    "    model = Sequential()\n",
    "    model.add(Conv3D(128, 3, input_shape=(75, 46, 140, 1), padding='same'))\n",
    "    model.add(Activation('relu'))\n",
    "    model.add(MaxPool3D((1, 2, 2)))\n",
    "\n",
    "    model.add(Conv3D(256, 3, padding='same'))\n",
    "    model.add(Activation('relu'))\n",
    "    model.add(MaxPool3D((1, 2, 2)))\n",
    "\n",
    "    model.add(Conv3D(75, 3, padding='same'))\n",
    "    model.add(Activation('relu'))\n",
    "    model.add(MaxPool3D((1, 2, 2)))\n",
    "\n",
    "    model.add(TimeDistributed(GlobalAveragePooling2D())) #a way to summarize the information in a 2D feature map\n",
    "    model.add(Bidirectional(LSTM(128, kernel_initializer='Orthogonal', return_sequences=True)))\n",
    "    model.add(Dropout(0.5))# Randomly drops 50% of the output to prevent overfitting.\n",
    "    model.add(Bidirectional(LSTM(128, kernel_initializer='Orthogonal', return_sequences=True)))\n",
    "    model.add(Dropout(0.5))\n",
    "\n",
    "    model.add(Dense(char_to_num.vocabulary_size() + 1, kernel_initializer='he_normal', activation='softmax'))\n",
    "    return model"
   ]
  },
  {
   "cell_type": "code",
   "execution_count": null,
   "id": "93662290-c50c-47c2-8273-86e1f6e8a47a",
   "metadata": {
    "colab": {
     "base_uri": "https://localhost:8080/",
     "height": 820
    },
    "executionInfo": {
     "elapsed": 1041,
     "status": "ok",
     "timestamp": 1747281228245,
     "user": {
      "displayName": "Samiksha Gariya",
      "userId": "03650219270827503100"
     },
     "user_tz": -330
    },
    "id": "93662290-c50c-47c2-8273-86e1f6e8a47a",
    "outputId": "cefa45f1-d960-440d-c6a5-61977e658fd3"
   },
   "outputs": [
    {
     "name": "stderr",
     "output_type": "stream",
     "text": [
      "/usr/local/lib/python3.11/dist-packages/keras/src/layers/convolutional/base_conv.py:107: UserWarning: Do not pass an `input_shape`/`input_dim` argument to a layer. When using Sequential models, prefer using an `Input(shape)` object as the first layer in the model instead.\n",
      "  super().__init__(activity_regularizer=activity_regularizer, **kwargs)\n"
     ]
    },
    {
     "data": {
      "text/html": [
       "<pre style=\"white-space:pre;overflow-x:auto;line-height:normal;font-family:Menlo,'DejaVu Sans Mono',consolas,'Courier New',monospace\"><span style=\"font-weight: bold\">Model: \"sequential\"</span>\n",
       "</pre>\n"
      ],
      "text/plain": [
       "\u001b[1mModel: \"sequential\"\u001b[0m\n"
      ]
     },
     "metadata": {},
     "output_type": "display_data"
    },
    {
     "data": {
      "text/html": [
       "<pre style=\"white-space:pre;overflow-x:auto;line-height:normal;font-family:Menlo,'DejaVu Sans Mono',consolas,'Courier New',monospace\">┏━━━━━━━━━━━━━━━━━━━━━━━━━━━━━━━━━┳━━━━━━━━━━━━━━━━━━━━━━━━┳━━━━━━━━━━━━━━━┓\n",
       "┃<span style=\"font-weight: bold\"> Layer (type)                    </span>┃<span style=\"font-weight: bold\"> Output Shape           </span>┃<span style=\"font-weight: bold\">       Param # </span>┃\n",
       "┡━━━━━━━━━━━━━━━━━━━━━━━━━━━━━━━━━╇━━━━━━━━━━━━━━━━━━━━━━━━╇━━━━━━━━━━━━━━━┩\n",
       "│ conv3d (<span style=\"color: #0087ff; text-decoration-color: #0087ff\">Conv3D</span>)                 │ (<span style=\"color: #00d7ff; text-decoration-color: #00d7ff\">None</span>, <span style=\"color: #00af00; text-decoration-color: #00af00\">75</span>, <span style=\"color: #00af00; text-decoration-color: #00af00\">46</span>, <span style=\"color: #00af00; text-decoration-color: #00af00\">140</span>,    │         <span style=\"color: #00af00; text-decoration-color: #00af00\">3,584</span> │\n",
       "│                                 │ <span style=\"color: #00af00; text-decoration-color: #00af00\">128</span>)                   │               │\n",
       "├─────────────────────────────────┼────────────────────────┼───────────────┤\n",
       "│ activation (<span style=\"color: #0087ff; text-decoration-color: #0087ff\">Activation</span>)         │ (<span style=\"color: #00d7ff; text-decoration-color: #00d7ff\">None</span>, <span style=\"color: #00af00; text-decoration-color: #00af00\">75</span>, <span style=\"color: #00af00; text-decoration-color: #00af00\">46</span>, <span style=\"color: #00af00; text-decoration-color: #00af00\">140</span>,    │             <span style=\"color: #00af00; text-decoration-color: #00af00\">0</span> │\n",
       "│                                 │ <span style=\"color: #00af00; text-decoration-color: #00af00\">128</span>)                   │               │\n",
       "├─────────────────────────────────┼────────────────────────┼───────────────┤\n",
       "│ max_pooling3d (<span style=\"color: #0087ff; text-decoration-color: #0087ff\">MaxPooling3D</span>)    │ (<span style=\"color: #00d7ff; text-decoration-color: #00d7ff\">None</span>, <span style=\"color: #00af00; text-decoration-color: #00af00\">75</span>, <span style=\"color: #00af00; text-decoration-color: #00af00\">23</span>, <span style=\"color: #00af00; text-decoration-color: #00af00\">70</span>,     │             <span style=\"color: #00af00; text-decoration-color: #00af00\">0</span> │\n",
       "│                                 │ <span style=\"color: #00af00; text-decoration-color: #00af00\">128</span>)                   │               │\n",
       "├─────────────────────────────────┼────────────────────────┼───────────────┤\n",
       "│ conv3d_1 (<span style=\"color: #0087ff; text-decoration-color: #0087ff\">Conv3D</span>)               │ (<span style=\"color: #00d7ff; text-decoration-color: #00d7ff\">None</span>, <span style=\"color: #00af00; text-decoration-color: #00af00\">75</span>, <span style=\"color: #00af00; text-decoration-color: #00af00\">23</span>, <span style=\"color: #00af00; text-decoration-color: #00af00\">70</span>,     │       <span style=\"color: #00af00; text-decoration-color: #00af00\">884,992</span> │\n",
       "│                                 │ <span style=\"color: #00af00; text-decoration-color: #00af00\">256</span>)                   │               │\n",
       "├─────────────────────────────────┼────────────────────────┼───────────────┤\n",
       "│ activation_1 (<span style=\"color: #0087ff; text-decoration-color: #0087ff\">Activation</span>)       │ (<span style=\"color: #00d7ff; text-decoration-color: #00d7ff\">None</span>, <span style=\"color: #00af00; text-decoration-color: #00af00\">75</span>, <span style=\"color: #00af00; text-decoration-color: #00af00\">23</span>, <span style=\"color: #00af00; text-decoration-color: #00af00\">70</span>,     │             <span style=\"color: #00af00; text-decoration-color: #00af00\">0</span> │\n",
       "│                                 │ <span style=\"color: #00af00; text-decoration-color: #00af00\">256</span>)                   │               │\n",
       "├─────────────────────────────────┼────────────────────────┼───────────────┤\n",
       "│ max_pooling3d_1 (<span style=\"color: #0087ff; text-decoration-color: #0087ff\">MaxPooling3D</span>)  │ (<span style=\"color: #00d7ff; text-decoration-color: #00d7ff\">None</span>, <span style=\"color: #00af00; text-decoration-color: #00af00\">75</span>, <span style=\"color: #00af00; text-decoration-color: #00af00\">11</span>, <span style=\"color: #00af00; text-decoration-color: #00af00\">35</span>,     │             <span style=\"color: #00af00; text-decoration-color: #00af00\">0</span> │\n",
       "│                                 │ <span style=\"color: #00af00; text-decoration-color: #00af00\">256</span>)                   │               │\n",
       "├─────────────────────────────────┼────────────────────────┼───────────────┤\n",
       "│ conv3d_2 (<span style=\"color: #0087ff; text-decoration-color: #0087ff\">Conv3D</span>)               │ (<span style=\"color: #00d7ff; text-decoration-color: #00d7ff\">None</span>, <span style=\"color: #00af00; text-decoration-color: #00af00\">75</span>, <span style=\"color: #00af00; text-decoration-color: #00af00\">11</span>, <span style=\"color: #00af00; text-decoration-color: #00af00\">35</span>, <span style=\"color: #00af00; text-decoration-color: #00af00\">75</span>) │       <span style=\"color: #00af00; text-decoration-color: #00af00\">518,475</span> │\n",
       "├─────────────────────────────────┼────────────────────────┼───────────────┤\n",
       "│ activation_2 (<span style=\"color: #0087ff; text-decoration-color: #0087ff\">Activation</span>)       │ (<span style=\"color: #00d7ff; text-decoration-color: #00d7ff\">None</span>, <span style=\"color: #00af00; text-decoration-color: #00af00\">75</span>, <span style=\"color: #00af00; text-decoration-color: #00af00\">11</span>, <span style=\"color: #00af00; text-decoration-color: #00af00\">35</span>, <span style=\"color: #00af00; text-decoration-color: #00af00\">75</span>) │             <span style=\"color: #00af00; text-decoration-color: #00af00\">0</span> │\n",
       "├─────────────────────────────────┼────────────────────────┼───────────────┤\n",
       "│ max_pooling3d_2 (<span style=\"color: #0087ff; text-decoration-color: #0087ff\">MaxPooling3D</span>)  │ (<span style=\"color: #00d7ff; text-decoration-color: #00d7ff\">None</span>, <span style=\"color: #00af00; text-decoration-color: #00af00\">75</span>, <span style=\"color: #00af00; text-decoration-color: #00af00\">5</span>, <span style=\"color: #00af00; text-decoration-color: #00af00\">17</span>, <span style=\"color: #00af00; text-decoration-color: #00af00\">75</span>)  │             <span style=\"color: #00af00; text-decoration-color: #00af00\">0</span> │\n",
       "├─────────────────────────────────┼────────────────────────┼───────────────┤\n",
       "│ time_distributed                │ (<span style=\"color: #00d7ff; text-decoration-color: #00d7ff\">None</span>, <span style=\"color: #00af00; text-decoration-color: #00af00\">75</span>, <span style=\"color: #00af00; text-decoration-color: #00af00\">75</span>)         │             <span style=\"color: #00af00; text-decoration-color: #00af00\">0</span> │\n",
       "│ (<span style=\"color: #0087ff; text-decoration-color: #0087ff\">TimeDistributed</span>)               │                        │               │\n",
       "├─────────────────────────────────┼────────────────────────┼───────────────┤\n",
       "│ bidirectional (<span style=\"color: #0087ff; text-decoration-color: #0087ff\">Bidirectional</span>)   │ (<span style=\"color: #00d7ff; text-decoration-color: #00d7ff\">None</span>, <span style=\"color: #00af00; text-decoration-color: #00af00\">75</span>, <span style=\"color: #00af00; text-decoration-color: #00af00\">256</span>)        │       <span style=\"color: #00af00; text-decoration-color: #00af00\">208,896</span> │\n",
       "├─────────────────────────────────┼────────────────────────┼───────────────┤\n",
       "│ dropout (<span style=\"color: #0087ff; text-decoration-color: #0087ff\">Dropout</span>)               │ (<span style=\"color: #00d7ff; text-decoration-color: #00d7ff\">None</span>, <span style=\"color: #00af00; text-decoration-color: #00af00\">75</span>, <span style=\"color: #00af00; text-decoration-color: #00af00\">256</span>)        │             <span style=\"color: #00af00; text-decoration-color: #00af00\">0</span> │\n",
       "├─────────────────────────────────┼────────────────────────┼───────────────┤\n",
       "│ bidirectional_1 (<span style=\"color: #0087ff; text-decoration-color: #0087ff\">Bidirectional</span>) │ (<span style=\"color: #00d7ff; text-decoration-color: #00d7ff\">None</span>, <span style=\"color: #00af00; text-decoration-color: #00af00\">75</span>, <span style=\"color: #00af00; text-decoration-color: #00af00\">256</span>)        │       <span style=\"color: #00af00; text-decoration-color: #00af00\">394,240</span> │\n",
       "├─────────────────────────────────┼────────────────────────┼───────────────┤\n",
       "│ dropout_1 (<span style=\"color: #0087ff; text-decoration-color: #0087ff\">Dropout</span>)             │ (<span style=\"color: #00d7ff; text-decoration-color: #00d7ff\">None</span>, <span style=\"color: #00af00; text-decoration-color: #00af00\">75</span>, <span style=\"color: #00af00; text-decoration-color: #00af00\">256</span>)        │             <span style=\"color: #00af00; text-decoration-color: #00af00\">0</span> │\n",
       "├─────────────────────────────────┼────────────────────────┼───────────────┤\n",
       "│ dense (<span style=\"color: #0087ff; text-decoration-color: #0087ff\">Dense</span>)                   │ (<span style=\"color: #00d7ff; text-decoration-color: #00d7ff\">None</span>, <span style=\"color: #00af00; text-decoration-color: #00af00\">75</span>, <span style=\"color: #00af00; text-decoration-color: #00af00\">41</span>)         │        <span style=\"color: #00af00; text-decoration-color: #00af00\">10,537</span> │\n",
       "└─────────────────────────────────┴────────────────────────┴───────────────┘\n",
       "</pre>\n"
      ],
      "text/plain": [
       "┏━━━━━━━━━━━━━━━━━━━━━━━━━━━━━━━━━┳━━━━━━━━━━━━━━━━━━━━━━━━┳━━━━━━━━━━━━━━━┓\n",
       "┃\u001b[1m \u001b[0m\u001b[1mLayer (type)                   \u001b[0m\u001b[1m \u001b[0m┃\u001b[1m \u001b[0m\u001b[1mOutput Shape          \u001b[0m\u001b[1m \u001b[0m┃\u001b[1m \u001b[0m\u001b[1m      Param #\u001b[0m\u001b[1m \u001b[0m┃\n",
       "┡━━━━━━━━━━━━━━━━━━━━━━━━━━━━━━━━━╇━━━━━━━━━━━━━━━━━━━━━━━━╇━━━━━━━━━━━━━━━┩\n",
       "│ conv3d (\u001b[38;5;33mConv3D\u001b[0m)                 │ (\u001b[38;5;45mNone\u001b[0m, \u001b[38;5;34m75\u001b[0m, \u001b[38;5;34m46\u001b[0m, \u001b[38;5;34m140\u001b[0m,    │         \u001b[38;5;34m3,584\u001b[0m │\n",
       "│                                 │ \u001b[38;5;34m128\u001b[0m)                   │               │\n",
       "├─────────────────────────────────┼────────────────────────┼───────────────┤\n",
       "│ activation (\u001b[38;5;33mActivation\u001b[0m)         │ (\u001b[38;5;45mNone\u001b[0m, \u001b[38;5;34m75\u001b[0m, \u001b[38;5;34m46\u001b[0m, \u001b[38;5;34m140\u001b[0m,    │             \u001b[38;5;34m0\u001b[0m │\n",
       "│                                 │ \u001b[38;5;34m128\u001b[0m)                   │               │\n",
       "├─────────────────────────────────┼────────────────────────┼───────────────┤\n",
       "│ max_pooling3d (\u001b[38;5;33mMaxPooling3D\u001b[0m)    │ (\u001b[38;5;45mNone\u001b[0m, \u001b[38;5;34m75\u001b[0m, \u001b[38;5;34m23\u001b[0m, \u001b[38;5;34m70\u001b[0m,     │             \u001b[38;5;34m0\u001b[0m │\n",
       "│                                 │ \u001b[38;5;34m128\u001b[0m)                   │               │\n",
       "├─────────────────────────────────┼────────────────────────┼───────────────┤\n",
       "│ conv3d_1 (\u001b[38;5;33mConv3D\u001b[0m)               │ (\u001b[38;5;45mNone\u001b[0m, \u001b[38;5;34m75\u001b[0m, \u001b[38;5;34m23\u001b[0m, \u001b[38;5;34m70\u001b[0m,     │       \u001b[38;5;34m884,992\u001b[0m │\n",
       "│                                 │ \u001b[38;5;34m256\u001b[0m)                   │               │\n",
       "├─────────────────────────────────┼────────────────────────┼───────────────┤\n",
       "│ activation_1 (\u001b[38;5;33mActivation\u001b[0m)       │ (\u001b[38;5;45mNone\u001b[0m, \u001b[38;5;34m75\u001b[0m, \u001b[38;5;34m23\u001b[0m, \u001b[38;5;34m70\u001b[0m,     │             \u001b[38;5;34m0\u001b[0m │\n",
       "│                                 │ \u001b[38;5;34m256\u001b[0m)                   │               │\n",
       "├─────────────────────────────────┼────────────────────────┼───────────────┤\n",
       "│ max_pooling3d_1 (\u001b[38;5;33mMaxPooling3D\u001b[0m)  │ (\u001b[38;5;45mNone\u001b[0m, \u001b[38;5;34m75\u001b[0m, \u001b[38;5;34m11\u001b[0m, \u001b[38;5;34m35\u001b[0m,     │             \u001b[38;5;34m0\u001b[0m │\n",
       "│                                 │ \u001b[38;5;34m256\u001b[0m)                   │               │\n",
       "├─────────────────────────────────┼────────────────────────┼───────────────┤\n",
       "│ conv3d_2 (\u001b[38;5;33mConv3D\u001b[0m)               │ (\u001b[38;5;45mNone\u001b[0m, \u001b[38;5;34m75\u001b[0m, \u001b[38;5;34m11\u001b[0m, \u001b[38;5;34m35\u001b[0m, \u001b[38;5;34m75\u001b[0m) │       \u001b[38;5;34m518,475\u001b[0m │\n",
       "├─────────────────────────────────┼────────────────────────┼───────────────┤\n",
       "│ activation_2 (\u001b[38;5;33mActivation\u001b[0m)       │ (\u001b[38;5;45mNone\u001b[0m, \u001b[38;5;34m75\u001b[0m, \u001b[38;5;34m11\u001b[0m, \u001b[38;5;34m35\u001b[0m, \u001b[38;5;34m75\u001b[0m) │             \u001b[38;5;34m0\u001b[0m │\n",
       "├─────────────────────────────────┼────────────────────────┼───────────────┤\n",
       "│ max_pooling3d_2 (\u001b[38;5;33mMaxPooling3D\u001b[0m)  │ (\u001b[38;5;45mNone\u001b[0m, \u001b[38;5;34m75\u001b[0m, \u001b[38;5;34m5\u001b[0m, \u001b[38;5;34m17\u001b[0m, \u001b[38;5;34m75\u001b[0m)  │             \u001b[38;5;34m0\u001b[0m │\n",
       "├─────────────────────────────────┼────────────────────────┼───────────────┤\n",
       "│ time_distributed                │ (\u001b[38;5;45mNone\u001b[0m, \u001b[38;5;34m75\u001b[0m, \u001b[38;5;34m75\u001b[0m)         │             \u001b[38;5;34m0\u001b[0m │\n",
       "│ (\u001b[38;5;33mTimeDistributed\u001b[0m)               │                        │               │\n",
       "├─────────────────────────────────┼────────────────────────┼───────────────┤\n",
       "│ bidirectional (\u001b[38;5;33mBidirectional\u001b[0m)   │ (\u001b[38;5;45mNone\u001b[0m, \u001b[38;5;34m75\u001b[0m, \u001b[38;5;34m256\u001b[0m)        │       \u001b[38;5;34m208,896\u001b[0m │\n",
       "├─────────────────────────────────┼────────────────────────┼───────────────┤\n",
       "│ dropout (\u001b[38;5;33mDropout\u001b[0m)               │ (\u001b[38;5;45mNone\u001b[0m, \u001b[38;5;34m75\u001b[0m, \u001b[38;5;34m256\u001b[0m)        │             \u001b[38;5;34m0\u001b[0m │\n",
       "├─────────────────────────────────┼────────────────────────┼───────────────┤\n",
       "│ bidirectional_1 (\u001b[38;5;33mBidirectional\u001b[0m) │ (\u001b[38;5;45mNone\u001b[0m, \u001b[38;5;34m75\u001b[0m, \u001b[38;5;34m256\u001b[0m)        │       \u001b[38;5;34m394,240\u001b[0m │\n",
       "├─────────────────────────────────┼────────────────────────┼───────────────┤\n",
       "│ dropout_1 (\u001b[38;5;33mDropout\u001b[0m)             │ (\u001b[38;5;45mNone\u001b[0m, \u001b[38;5;34m75\u001b[0m, \u001b[38;5;34m256\u001b[0m)        │             \u001b[38;5;34m0\u001b[0m │\n",
       "├─────────────────────────────────┼────────────────────────┼───────────────┤\n",
       "│ dense (\u001b[38;5;33mDense\u001b[0m)                   │ (\u001b[38;5;45mNone\u001b[0m, \u001b[38;5;34m75\u001b[0m, \u001b[38;5;34m41\u001b[0m)         │        \u001b[38;5;34m10,537\u001b[0m │\n",
       "└─────────────────────────────────┴────────────────────────┴───────────────┘\n"
      ]
     },
     "metadata": {},
     "output_type": "display_data"
    },
    {
     "data": {
      "text/html": [
       "<pre style=\"white-space:pre;overflow-x:auto;line-height:normal;font-family:Menlo,'DejaVu Sans Mono',consolas,'Courier New',monospace\"><span style=\"font-weight: bold\"> Total params: </span><span style=\"color: #00af00; text-decoration-color: #00af00\">2,020,724</span> (7.71 MB)\n",
       "</pre>\n"
      ],
      "text/plain": [
       "\u001b[1m Total params: \u001b[0m\u001b[38;5;34m2,020,724\u001b[0m (7.71 MB)\n"
      ]
     },
     "metadata": {},
     "output_type": "display_data"
    },
    {
     "data": {
      "text/html": [
       "<pre style=\"white-space:pre;overflow-x:auto;line-height:normal;font-family:Menlo,'DejaVu Sans Mono',consolas,'Courier New',monospace\"><span style=\"font-weight: bold\"> Trainable params: </span><span style=\"color: #00af00; text-decoration-color: #00af00\">2,020,724</span> (7.71 MB)\n",
       "</pre>\n"
      ],
      "text/plain": [
       "\u001b[1m Trainable params: \u001b[0m\u001b[38;5;34m2,020,724\u001b[0m (7.71 MB)\n"
      ]
     },
     "metadata": {},
     "output_type": "display_data"
    },
    {
     "data": {
      "text/html": [
       "<pre style=\"white-space:pre;overflow-x:auto;line-height:normal;font-family:Menlo,'DejaVu Sans Mono',consolas,'Courier New',monospace\"><span style=\"font-weight: bold\"> Non-trainable params: </span><span style=\"color: #00af00; text-decoration-color: #00af00\">0</span> (0.00 B)\n",
       "</pre>\n"
      ],
      "text/plain": [
       "\u001b[1m Non-trainable params: \u001b[0m\u001b[38;5;34m0\u001b[0m (0.00 B)\n"
      ]
     },
     "metadata": {},
     "output_type": "display_data"
    }
   ],
   "source": [
    "model = build_model(char_to_num)\n",
    "model.summary()"
   ]
  },
  {
   "cell_type": "code",
   "execution_count": null,
   "id": "a4cb1ed1-b2e5-48c5-b1c1-67640a7a3765",
   "metadata": {
    "colab": {
     "base_uri": "https://localhost:8080/"
    },
    "executionInfo": {
     "elapsed": 77,
     "status": "ok",
     "timestamp": 1747281232545,
     "user": {
      "displayName": "Samiksha Gariya",
      "userId": "03650219270827503100"
     },
     "user_tz": -330
    },
    "id": "a4cb1ed1-b2e5-48c5-b1c1-67640a7a3765",
    "outputId": "0c0c161b-29e1-4cdf-da51-b74ca83859b4"
   },
   "outputs": [
    {
     "data": {
      "text/plain": [
       "<tf.Tensor: shape=(), dtype=string, numpy=b'eeeeeeeeeeeeeeeeeeeeeeeeeeeeeeeeeeeeeeeeeeeeeeeeeeeeeeeeeeeeeeeekkkkkkk5111'>"
      ]
     },
     "execution_count": 33,
     "metadata": {},
     "output_type": "execute_result"
    }
   ],
   "source": [
    "tf.strings.reduce_join([num_to_char(x) for x in tf.argmax(yhat[0],axis=1)])\n"
   ]
  },
  {
   "cell_type": "code",
   "execution_count": null,
   "id": "c300b4a8-a2e5-4089-97d3-8aa622209bbe",
   "metadata": {
    "colab": {
     "base_uri": "https://localhost:8080/"
    },
    "executionInfo": {
     "elapsed": 51,
     "status": "ok",
     "timestamp": 1747281232602,
     "user": {
      "displayName": "Samiksha Gariya",
      "userId": "03650219270827503100"
     },
     "user_tz": -330
    },
    "id": "c300b4a8-a2e5-4089-97d3-8aa622209bbe",
    "outputId": "5ff80283-6198-43e6-a3c3-f2603ed64a6d"
   },
   "outputs": [
    {
     "data": {
      "text/plain": [
       "<tf.Tensor: shape=(), dtype=string, numpy=b'eeeeeeeeeeeeeeeeeeeeeeeeeeeeeeeeeeeeeeeeeeeeeeeeeeeeeeeeeeeeeeeekkkkkkk5111'>"
      ]
     },
     "execution_count": 34,
     "metadata": {},
     "output_type": "execute_result"
    }
   ],
   "source": [
    "tf.strings.reduce_join([num_to_char(tf.argmax(x)) for x in yhat[0]])\n"
   ]
  },
  {
   "cell_type": "markdown",
   "id": "6b12dd17-3cb8-482d-abdd-e1cf174edecc",
   "metadata": {
    "id": "6b12dd17-3cb8-482d-abdd-e1cf174edecc"
   },
   "source": [
    "# Setup training options and train"
   ]
  },
  {
   "cell_type": "code",
   "execution_count": null,
   "id": "7444361c-e7e5-43d8-bbf4-44eafa4de6c3",
   "metadata": {
    "id": "7444361c-e7e5-43d8-bbf4-44eafa4de6c3"
   },
   "outputs": [],
   "source": [
    "#This function defines a learning rate scheduler that decays the learning rate exponentially\n",
    "#after the 30th epoch. The scheduler function takes the epoch number and the current learning rate\n",
    "#as inputs and returns the new learning rate to be used for the next epoch.\n",
    "\n",
    "def scheduler(epoch, lr):\n",
    "    if epoch < 30:\n",
    "        return float(lr)\n",
    "    else: # slowly reduce it (decay it) each epoch\n",
    "        return float(lr * tf.math.exp(-0.1).numpy())  # Ensure output is pure float\n",
    "# This helps the model learn faster in the beginning, then settle down and fine-tune gently"
   ]
  },
  {
   "cell_type": "code",
   "execution_count": null,
   "id": "d7764d9b-f6ab-47e4-8fed-007a3cd0c00a",
   "metadata": {
    "id": "d7764d9b-f6ab-47e4-8fed-007a3cd0c00a"
   },
   "outputs": [],
   "source": [
    "#This function computes the Connectionist Temporal Classification (CTC) loss between the predicted labels and true labels.\n",
    "#It takes two inputs, y_true and y_pred, which are the true and predicted labels respectively.\n",
    "\n",
    "def CTCLoss(y_true, y_pred):\n",
    "    batch_len = tf.cast(tf.shape(y_true)[0], dtype=\"int64\")\n",
    "    input_length = tf.cast(tf.shape(y_pred)[1], dtype=\"int64\")\n",
    "    label_length = tf.cast(tf.shape(y_true)[1], dtype=\"int64\")\n",
    "\n",
    "    # Create tensors of shape (batch_size, 1) with the input and label lengths\n",
    "    input_length = input_length * tf.ones(shape=(batch_len, 1), dtype=\"int64\")\n",
    "    label_length = label_length * tf.ones(shape=(batch_len, 1), dtype=\"int64\")\n",
    "\n",
    "    # Compute the CTC loss using the backend function ctc_batch_cost\n",
    "    loss = tf.keras.backend.ctc_batch_cost(y_true, y_pred, input_length, label_length)\n",
    "    return loss"
   ]
  },
  {
   "cell_type": "code",
   "execution_count": null,
   "id": "fc928c6e-36b2-4829-8f8b-59b5020f2a63",
   "metadata": {
    "id": "fc928c6e-36b2-4829-8f8b-59b5020f2a63"
   },
   "outputs": [],
   "source": []
  },
  {
   "cell_type": "code",
   "execution_count": null,
   "id": "LDwBVFo2gkN0",
   "metadata": {
    "id": "LDwBVFo2gkN0"
   },
   "outputs": [],
   "source": [
    "\n",
    "# === Callbacks Setup ===\n",
    "checkpoint_callback = ModelCheckpoint(\n",
    "    filepath='/content/drive/MyDrive/Colab Notebook/models/checkpoint.weights.h5',\n",
    "    monitor='loss',\n",
    "    save_weights_only=True,\n",
    "    save_best_only=False,\n",
    "    save_freq='epoch'\n",
    ")"
   ]
  },
  {
   "cell_type": "code",
   "execution_count": null,
   "id": "mRl1vBl_giQk",
   "metadata": {
    "id": "mRl1vBl_giQk"
   },
   "outputs": [],
   "source": [
    "early_stop_callback = EarlyStopping(\n",
    "    monitor='val_loss',\n",
    "    patience=5,\n",
    "    restore_best_weights=True\n",
    ")"
   ]
  },
  {
   "cell_type": "code",
   "execution_count": null,
   "id": "v7TFfw42gqCX",
   "metadata": {
    "id": "v7TFfw42gqCX"
   },
   "outputs": [],
   "source": [
    "schedule_callback = LearningRateScheduler(scheduler)\n",
    "example_callback = ProduceExample(test)"
   ]
  },
  {
   "cell_type": "code",
   "execution_count": null,
   "id": "YiGlzqisgtob",
   "metadata": {
    "id": "YiGlzqisgtob"
   },
   "outputs": [],
   "source": [
    "\n",
    "# === Training Resume Function ===\n",
    "def resume_training(train, test, build_model, checkpoint_path, start_epoch, end_epoch, initial_lr, callbacks):\n",
    "    model = build_model()\n",
    "    model.compile(optimizer=Adam(learning_rate=initial_lr), loss=CTCLoss)\n",
    "\n",
    "    if os.path.exists(checkpoint_path):\n",
    "        model.load_weights(checkpoint_path)\n",
    "        print(f\" Loaded weights from {checkpoint_path}\")\n",
    "    else:\n",
    "        print(f\" No checkpoint found at {checkpoint_path}, training from scratch.\")\n",
    "\n",
    "    history = model.fit(\n",
    "        train,\n",
    "        validation_data=test,\n",
    "        initial_epoch=start_epoch,\n",
    "        epochs=end_epoch,\n",
    "        callbacks=callbacks\n",
    "    )\n",
    "\n",
    "    return model, history"
   ]
  },
  {
   "cell_type": "code",
   "execution_count": null,
   "id": "NZuwahC2gymA",
   "metadata": {
    "colab": {
     "base_uri": "https://localhost:8080/"
    },
    "executionInfo": {
     "elapsed": 2243052,
     "status": "ok",
     "timestamp": 1747321839339,
     "user": {
      "displayName": "Samiksha Gariya",
      "userId": "03650219270827503100"
     },
     "user_tz": -330
    },
    "id": "NZuwahC2gymA",
    "outputId": "475cc4f1-cf9a-4407-e3a1-55be6f4a5c1b"
   },
   "outputs": [
    {
     "name": "stdout",
     "output_type": "stream",
     "text": [
      "✅ Loaded weights from /content/drive/MyDrive/Colab Notebook/models/checkpoint.weights.h5\n",
      "Epoch 131/140\n",
      "\u001b[1m1/1\u001b[0m \u001b[32m━━━━━━━━━━━━━━━━━━━━\u001b[0m\u001b[37m\u001b[0m \u001b[1m1s\u001b[0m 1s/step\n",
      "Original: place red with x eight please\n",
      "Prediction: plac gren with x sigh please\n",
      "~~~~~~~~~~~~~~~~~~~~~~~~~~~~~~~~~~~~~~~~~~~~~~~~~~~~~~~~~~~~~~~~~~~~~~~~~~~~~~~~~~~~~~~~~~~~~~~~~~~~\n",
      "Original: bin blue in e eight now\n",
      "Prediction: bin blue in g eight now\n",
      "~~~~~~~~~~~~~~~~~~~~~~~~~~~~~~~~~~~~~~~~~~~~~~~~~~~~~~~~~~~~~~~~~~~~~~~~~~~~~~~~~~~~~~~~~~~~~~~~~~~~\n",
      "\u001b[1m450/450\u001b[0m \u001b[32m━━━━━━━━━━━━━━━━━━━━\u001b[0m\u001b[37m\u001b[0m \u001b[1m657s\u001b[0m 1s/step - loss: 14.3696 - val_loss: 11.8573 - learning_rate: 9.0484e-05\n",
      "Epoch 132/140\n",
      "\u001b[1m1/1\u001b[0m \u001b[32m━━━━━━━━━━━━━━━━━━━━\u001b[0m\u001b[37m\u001b[0m \u001b[1m0s\u001b[0m 199ms/step\n",
      "Original: bin green by o zero please\n",
      "Prediction: bin gren by y zer please\n",
      "~~~~~~~~~~~~~~~~~~~~~~~~~~~~~~~~~~~~~~~~~~~~~~~~~~~~~~~~~~~~~~~~~~~~~~~~~~~~~~~~~~~~~~~~~~~~~~~~~~~~\n",
      "Original: place red with k zero please\n",
      "Prediction: place gred with z zero please\n",
      "~~~~~~~~~~~~~~~~~~~~~~~~~~~~~~~~~~~~~~~~~~~~~~~~~~~~~~~~~~~~~~~~~~~~~~~~~~~~~~~~~~~~~~~~~~~~~~~~~~~~\n",
      "\u001b[1m450/450\u001b[0m \u001b[32m━━━━━━━━━━━━━━━━━━━━\u001b[0m\u001b[37m\u001b[0m \u001b[1m645s\u001b[0m 1s/step - loss: 14.4790 - val_loss: 11.4594 - learning_rate: 8.1873e-05\n",
      "Epoch 133/140\n",
      "\u001b[1m1/1\u001b[0m \u001b[32m━━━━━━━━━━━━━━━━━━━━\u001b[0m\u001b[37m\u001b[0m \u001b[1m0s\u001b[0m 198ms/step\n",
      "Original: lay blue in d four please\n",
      "Prediction: lay blue it j four please\n",
      "~~~~~~~~~~~~~~~~~~~~~~~~~~~~~~~~~~~~~~~~~~~~~~~~~~~~~~~~~~~~~~~~~~~~~~~~~~~~~~~~~~~~~~~~~~~~~~~~~~~~\n",
      "Original: set green at p zero now\n",
      "Prediction: set gren by p zero now\n",
      "~~~~~~~~~~~~~~~~~~~~~~~~~~~~~~~~~~~~~~~~~~~~~~~~~~~~~~~~~~~~~~~~~~~~~~~~~~~~~~~~~~~~~~~~~~~~~~~~~~~~\n",
      "\u001b[1m450/450\u001b[0m \u001b[32m━━━━━━━━━━━━━━━━━━━━\u001b[0m\u001b[37m\u001b[0m \u001b[1m651s\u001b[0m 1s/step - loss: 13.5481 - val_loss: 10.2361 - learning_rate: 7.4082e-05\n",
      "Epoch 134/140\n",
      "\u001b[1m1/1\u001b[0m \u001b[32m━━━━━━━━━━━━━━━━━━━━\u001b[0m\u001b[37m\u001b[0m \u001b[1m0s\u001b[0m 197ms/step\n",
      "Original: bin red in z nine again\n",
      "Prediction: bin red it n seven again\n",
      "~~~~~~~~~~~~~~~~~~~~~~~~~~~~~~~~~~~~~~~~~~~~~~~~~~~~~~~~~~~~~~~~~~~~~~~~~~~~~~~~~~~~~~~~~~~~~~~~~~~~\n",
      "Original: set white at v one again\n",
      "Prediction: set white it i one again\n",
      "~~~~~~~~~~~~~~~~~~~~~~~~~~~~~~~~~~~~~~~~~~~~~~~~~~~~~~~~~~~~~~~~~~~~~~~~~~~~~~~~~~~~~~~~~~~~~~~~~~~~\n",
      "\u001b[1m450/450\u001b[0m \u001b[32m━━━━━━━━━━━━━━━━━━━━\u001b[0m\u001b[37m\u001b[0m \u001b[1m645s\u001b[0m 1s/step - loss: 13.2529 - val_loss: 11.0518 - learning_rate: 6.7032e-05\n",
      "Epoch 135/140\n",
      "\u001b[1m1/1\u001b[0m \u001b[32m━━━━━━━━━━━━━━━━━━━━\u001b[0m\u001b[37m\u001b[0m \u001b[1m0s\u001b[0m 210ms/step\n",
      "Original: set green at i nine again\n",
      "Prediction: set gren it j nive again\n",
      "~~~~~~~~~~~~~~~~~~~~~~~~~~~~~~~~~~~~~~~~~~~~~~~~~~~~~~~~~~~~~~~~~~~~~~~~~~~~~~~~~~~~~~~~~~~~~~~~~~~~\n",
      "Original: lay green by m four please\n",
      "Prediction: lay gren by y fouo please\n",
      "~~~~~~~~~~~~~~~~~~~~~~~~~~~~~~~~~~~~~~~~~~~~~~~~~~~~~~~~~~~~~~~~~~~~~~~~~~~~~~~~~~~~~~~~~~~~~~~~~~~~\n",
      "\u001b[1m450/450\u001b[0m \u001b[32m━━━━━━━━━━━━━━━━━━━━\u001b[0m\u001b[37m\u001b[0m \u001b[1m644s\u001b[0m 1s/step - loss: 13.0383 - val_loss: 9.9155 - learning_rate: 6.0653e-05\n",
      "Epoch 136/140\n",
      "\u001b[1m1/1\u001b[0m \u001b[32m━━━━━━━━━━━━━━━━━━━━\u001b[0m\u001b[37m\u001b[0m \u001b[1m0s\u001b[0m 199ms/step\n",
      "Original: place red in i eight please\n",
      "Prediction: place re it g eight please\n",
      "~~~~~~~~~~~~~~~~~~~~~~~~~~~~~~~~~~~~~~~~~~~~~~~~~~~~~~~~~~~~~~~~~~~~~~~~~~~~~~~~~~~~~~~~~~~~~~~~~~~~\n",
      "Original: bin blue in z zero now\n",
      "Prediction: bin blue an g zero now\n",
      "~~~~~~~~~~~~~~~~~~~~~~~~~~~~~~~~~~~~~~~~~~~~~~~~~~~~~~~~~~~~~~~~~~~~~~~~~~~~~~~~~~~~~~~~~~~~~~~~~~~~\n",
      "\u001b[1m450/450\u001b[0m \u001b[32m━━━━━━━━━━━━━━━━━━━━\u001b[0m\u001b[37m\u001b[0m \u001b[1m650s\u001b[0m 1s/step - loss: 12.6178 - val_loss: 10.1547 - learning_rate: 5.4881e-05\n",
      "Epoch 137/140\n",
      "\u001b[1m1/1\u001b[0m \u001b[32m━━━━━━━━━━━━━━━━━━━━\u001b[0m\u001b[37m\u001b[0m \u001b[1m0s\u001b[0m 198ms/step\n",
      "Original: lay blue with e five soon\n",
      "Prediction: lay blue with v five son\n",
      "~~~~~~~~~~~~~~~~~~~~~~~~~~~~~~~~~~~~~~~~~~~~~~~~~~~~~~~~~~~~~~~~~~~~~~~~~~~~~~~~~~~~~~~~~~~~~~~~~~~~\n",
      "Original: place red in v four now\n",
      "Prediction: place gren at k fouo now\n",
      "~~~~~~~~~~~~~~~~~~~~~~~~~~~~~~~~~~~~~~~~~~~~~~~~~~~~~~~~~~~~~~~~~~~~~~~~~~~~~~~~~~~~~~~~~~~~~~~~~~~~\n",
      "\u001b[1m450/450\u001b[0m \u001b[32m━━━━━━━━━━━━━━━━━━━━\u001b[0m\u001b[37m\u001b[0m \u001b[1m647s\u001b[0m 1s/step - loss: 12.6628 - val_loss: 9.9912 - learning_rate: 4.9659e-05\n",
      "Epoch 138/140\n",
      "\u001b[1m1/1\u001b[0m \u001b[32m━━━━━━━━━━━━━━━━━━━━\u001b[0m\u001b[37m\u001b[0m \u001b[1m0s\u001b[0m 199ms/step\n",
      "Original: bin blue in r seven soon\n",
      "Prediction: bin blue it v sive son\n",
      "~~~~~~~~~~~~~~~~~~~~~~~~~~~~~~~~~~~~~~~~~~~~~~~~~~~~~~~~~~~~~~~~~~~~~~~~~~~~~~~~~~~~~~~~~~~~~~~~~~~~\n",
      "Original: place blue by j one again\n",
      "Prediction: place blue by o one again\n",
      "~~~~~~~~~~~~~~~~~~~~~~~~~~~~~~~~~~~~~~~~~~~~~~~~~~~~~~~~~~~~~~~~~~~~~~~~~~~~~~~~~~~~~~~~~~~~~~~~~~~~\n",
      "\u001b[1m450/450\u001b[0m \u001b[32m━━━━━━━━━━━━━━━━━━━━\u001b[0m\u001b[37m\u001b[0m \u001b[1m649s\u001b[0m 1s/step - loss: 12.0527 - val_loss: 9.7252 - learning_rate: 4.4933e-05\n",
      "Epoch 139/140\n",
      "\u001b[1m1/1\u001b[0m \u001b[32m━━━━━━━━━━━━━━━━━━━━\u001b[0m\u001b[37m\u001b[0m \u001b[1m0s\u001b[0m 201ms/step\n",
      "Original: place red by x four please\n",
      "Prediction: place red by u fouo please\n",
      "~~~~~~~~~~~~~~~~~~~~~~~~~~~~~~~~~~~~~~~~~~~~~~~~~~~~~~~~~~~~~~~~~~~~~~~~~~~~~~~~~~~~~~~~~~~~~~~~~~~~\n",
      "Original: lay blue in x six please\n",
      "Prediction: lay blue an s six please\n",
      "~~~~~~~~~~~~~~~~~~~~~~~~~~~~~~~~~~~~~~~~~~~~~~~~~~~~~~~~~~~~~~~~~~~~~~~~~~~~~~~~~~~~~~~~~~~~~~~~~~~~\n",
      "\u001b[1m450/450\u001b[0m \u001b[32m━━━━━━━━━━━━━━━━━━━━\u001b[0m\u001b[37m\u001b[0m \u001b[1m644s\u001b[0m 1s/step - loss: 11.8048 - val_loss: 9.4927 - learning_rate: 4.0657e-05\n",
      "Epoch 140/140\n",
      "\u001b[1m1/1\u001b[0m \u001b[32m━━━━━━━━━━━━━━━━━━━━\u001b[0m\u001b[37m\u001b[0m \u001b[1m0s\u001b[0m 199ms/step\n",
      "Original: place blue by v nine again\n",
      "Prediction: place blue by u nive again\n",
      "~~~~~~~~~~~~~~~~~~~~~~~~~~~~~~~~~~~~~~~~~~~~~~~~~~~~~~~~~~~~~~~~~~~~~~~~~~~~~~~~~~~~~~~~~~~~~~~~~~~~\n",
      "Original: bin white at a three again\n",
      "Prediction: bin white it g thre again\n",
      "~~~~~~~~~~~~~~~~~~~~~~~~~~~~~~~~~~~~~~~~~~~~~~~~~~~~~~~~~~~~~~~~~~~~~~~~~~~~~~~~~~~~~~~~~~~~~~~~~~~~\n",
      "\u001b[1m450/450\u001b[0m \u001b[32m━━━━━━━━━━━━━━━━━━━━\u001b[0m\u001b[37m\u001b[0m \u001b[1m644s\u001b[0m 1s/step - loss: 11.6790 - val_loss: 9.4789 - learning_rate: 3.6788e-05\n"
     ]
    }
   ],
   "source": [
    "# === Execute One Chunk of Training (example: epochs 25–50) ===\n",
    "model, history = resume_training(\n",
    "    train=train,\n",
    "    test=test,\n",
    "    build_model=lambda: build_model(char_to_num),\n",
    "    checkpoint_path='/content/drive/MyDrive/Colab Notebook/models/checkpoint.weights.h5',\n",
    "    start_epoch=130,\n",
    "    end_epoch=140,\n",
    "    initial_lr=1e-4,\n",
    "    callbacks=[\n",
    "        checkpoint_callback,\n",
    "        schedule_callback,\n",
    "        early_stop_callback,\n",
    "        example_callback\n",
    "    ]\n",
    ")"
   ]
  },
  {
   "cell_type": "code",
   "execution_count": null,
   "id": "z-yyjli8QubE",
   "metadata": {
    "colab": {
     "base_uri": "https://localhost:8080/"
    },
    "executionInfo": {
     "elapsed": 222,
     "status": "ok",
     "timestamp": 1747322072959,
     "user": {
      "displayName": "Samiksha Gariya",
      "userId": "03650219270827503100"
     },
     "user_tz": -330
    },
    "id": "z-yyjli8QubE",
    "outputId": "955a9a50-84cb-48b3-8897-b188fd687bc4"
   },
   "outputs": [
    {
     "name": "stdout",
     "output_type": "stream",
     "text": [
      "✅ Final model saved.\n"
     ]
    }
   ],
   "source": [
    "# === Final Save ===\n",
    "model.save('/content/drive/MyDrive/Colab Notebook/models/final_model.keras')\n",
    "print(\"Final model saved.\")"
   ]
  },
  {
   "cell_type": "code",
   "execution_count": null,
   "id": "2gFyPIJ6rJCf",
   "metadata": {
    "colab": {
     "base_uri": "https://localhost:8080/",
     "height": 507
    },
    "executionInfo": {
     "elapsed": 1307,
     "status": "ok",
     "timestamp": 1747324805799,
     "user": {
      "displayName": "Samiksha Gariya",
      "userId": "03650219270827503100"
     },
     "user_tz": -330
    },
    "id": "2gFyPIJ6rJCf",
    "outputId": "d63c2504-7067-489e-ff72-bf633354e2a4"
   },
   "outputs": [
    {
     "data": {
      "image/png": "[encoded data removed]",
      "text/plain": [
       "<Figure size 1200x500 with 2 Axes>"
      ]
     },
     "metadata": {},
     "output_type": "display_data"
    }
   ],
   "source": [
    "import matplotlib.pyplot as plt\n",
    "import numpy as np\n",
    "\n",
    "# Epochs\n",
    "epochs = list(range(131, 141))\n",
    "\n",
    "# Training loss and validation loss from logs\n",
    "train_loss = [\n",
    "    14.3696, 14.4790, 13.5481, 13.2529, 13.0383,\n",
    "    12.6178, 12.6628, 12.0527, 11.8048, 11.6790\n",
    "]\n",
    "\n",
    "val_loss = [\n",
    "    11.8573, 11.4594, 10.2361, 11.0518, 9.9155,\n",
    "    10.1547, 9.9912, 9.7252, 9.4927, 9.4789\n",
    "]\n",
    "\n",
    "# Learning rate per epoch\n",
    "learning_rate = [\n",
    "    9.0484e-05, 8.1873e-05, 7.4082e-05, 6.7032e-05, 6.0653e-05,\n",
    "    5.4881e-05, 4.9659e-05, 4.4933e-05, 4.0657e-05, 3.6788e-05\n",
    "]\n",
    "\n",
    "# Plotting Loss curves\n",
    "plt.figure(figsize=(12, 5))\n",
    "\n",
    "plt.subplot(1, 2, 1)\n",
    "plt.plot(epochs, train_loss, marker='o', label='Train Loss')\n",
    "plt.plot(epochs, val_loss, marker='s', label='Validation Loss')\n",
    "plt.title('Training vs Validation Loss (Epochs 131–140)')\n",
    "plt.xlabel('Epoch')\n",
    "plt.ylabel('Loss')\n",
    "plt.grid(True)\n",
    "plt.legend()\n",
    "\n",
    "# Plotting Learning Rate\n",
    "plt.subplot(1, 2, 2)\n",
    "plt.plot(epochs, learning_rate, marker='d', color='purple', label='Learning Rate')\n",
    "plt.title('Learning Rate Schedule')\n",
    "plt.xlabel('Epoch')\n",
    "plt.ylabel('Learning Rate')\n",
    "plt.grid(True)\n",
    "plt.legend()\n",
    "\n",
    "plt.tight_layout()\n",
    "plt.show()\n"
   ]
  },
  {
   "cell_type": "markdown",
   "id": "34ea40d4-30b9-4fe5-96fd-e02fc56c5600",
   "metadata": {
    "id": "34ea40d4-30b9-4fe5-96fd-e02fc56c5600"
   },
   "source": [
    "# Make a prediction"
   ]
  },
  {
   "cell_type": "code",
   "execution_count": null,
   "id": "23a99e6a-1b10-4384-b536-ebd6e9531504",
   "metadata": {
    "colab": {
     "base_uri": "https://localhost:8080/",
     "height": 105
    },
    "executionInfo": {
     "elapsed": 147,
     "status": "ok",
     "timestamp": 1747322076610,
     "user": {
      "displayName": "Samiksha Gariya",
      "userId": "03650219270827503100"
     },
     "user_tz": -330
    },
    "id": "23a99e6a-1b10-4384-b536-ebd6e9531504",
    "outputId": "041c7215-f683-4316-f0eb-6a3a34b64789"
   },
   "outputs": [
    {
     "name": "stderr",
     "output_type": "stream",
     "text": [
      "Downloading...\n",
      "From: https://drive.google.com/drive/u/0/folders/1xvq472Wgx9OHV2dEicYV3BzfRBdhbCRz\n",
      "To: /content/checkpoints.weights.h5\n",
      "1.08MB [00:00, 10.3MB/s]\n"
     ]
    },
    {
     "data": {
      "application/vnd.google.colaboratory.intrinsic+json": {
       "type": "string"
      },
      "text/plain": [
       "'checkpoints.weights.h5'"
      ]
     },
     "execution_count": 157,
     "metadata": {},
     "output_type": "execute_result"
    }
   ],
   "source": [
    "# URL to the zip file containing checkpoints\n",
    "url ='https://drive.google.com/drive/u/0/folders/1xvq472Wgx9OHV2dEicYV3BzfRBdhbCRz'\n",
    "# Name of the output zip file\n",
    "output = 'checkpoints.weights.h5'\n",
    "# Download the zip file from Google Drive\n",
    "gdown.download(url, output, quiet=False)\n"
   ]
  },
  {
   "cell_type": "code",
   "execution_count": null,
   "id": "4137d8a4-667a-4fac-bcad-237b9089f964",
   "metadata": {
    "id": "4137d8a4-667a-4fac-bcad-237b9089f964"
   },
   "outputs": [],
   "source": [
    "#model.load_weights('models/checkpoint')\n"
   ]
  },
  {
   "cell_type": "code",
   "execution_count": null,
   "id": "bf15e444-d175-450e-a8cd-6445dca9b4a4",
   "metadata": {
    "id": "bf15e444-d175-450e-a8cd-6445dca9b4a4"
   },
   "outputs": [],
   "source": [
    "from tensorflow.keras.optimizers import Adam\n",
    "optimizer = Adam(learning_rate=0.001)\n",
    "\n",
    "# Compile the model with the same optimizer\n",
    "model.compile(loss=CTCLoss, optimizer=optimizer)\n",
    "\n",
    "# Load the saved weights\n",
    "model.load_weights('/content/drive/MyDrive/Colab Notebook/models/checkpoint.weights.h5')\n"
   ]
  },
  {
   "cell_type": "code",
   "execution_count": null,
   "id": "09bf2bf3-a96d-45da-9f66-88f23d10a498",
   "metadata": {
    "id": "09bf2bf3-a96d-45da-9f66-88f23d10a498"
   },
   "outputs": [],
   "source": [
    "test_data = test.as_numpy_iterator()\n",
    "sample = test_data.next()\n",
    "yhat = model.predict(sample[0])\n"
   ]
  },
  {
   "cell_type": "code",
   "execution_count": null,
   "id": "ec31c8c8-47e1-455e-a8ac-40d6bdf38da2",
   "metadata": {
    "colab": {
     "base_uri": "https://localhost:8080/"
    },
    "executionInfo": {
     "elapsed": 44,
     "status": "ok",
     "timestamp": 1747322280449,
     "user": {
      "displayName": "Samiksha Gariya",
      "userId": "03650219270827503100"
     },
     "user_tz": -330
    },
    "id": "ec31c8c8-47e1-455e-a8ac-40d6bdf38da2",
    "outputId": "8cba4e87-2017-4886-e207-dee0345a5d42"
   },
   "outputs": [
    {
     "name": "stdout",
     "output_type": "stream",
     "text": [
      "~~~~~~~~~~~~~~~~~~~~~~~~~~~~~~~~~~~~~~~~~~~~~~~~~~~~~~~~~~~~~~~~~~~~~~~~~~~~~~~~~~~~~~~~~~~~~~~~~~~~ REAL TEXT\n"
     ]
    },
    {
     "data": {
      "text/plain": [
       "[<tf.Tensor: shape=(), dtype=string, numpy=b'set green in o seven soon'>,\n",
       " <tf.Tensor: shape=(), dtype=string, numpy=b'place white by q five soon'>]"
      ]
     },
     "execution_count": 163,
     "metadata": {},
     "output_type": "execute_result"
    }
   ],
   "source": [
    "print('~'*100, 'REAL TEXT')\n",
    "[tf.strings.reduce_join([num_to_char(word) for word in sentence]) for sentence in sample[1]]"
   ]
  },
  {
   "cell_type": "code",
   "execution_count": null,
   "id": "16be748e-0941-4af4-b0d5-c3313e786c94",
   "metadata": {
    "id": "16be748e-0941-4af4-b0d5-c3313e786c94"
   },
   "outputs": [],
   "source": [
    "decoded = tf.keras.backend.ctc_decode(yhat, input_length=[75,75], greedy=True)[0][0].numpy()\n"
   ]
  },
  {
   "cell_type": "code",
   "execution_count": null,
   "id": "ee3cc0a8-b26b-4203-a727-e667169a5ab4",
   "metadata": {
    "colab": {
     "base_uri": "https://localhost:8080/"
    },
    "executionInfo": {
     "elapsed": 253,
     "status": "ok",
     "timestamp": 1747322280756,
     "user": {
      "displayName": "Samiksha Gariya",
      "userId": "03650219270827503100"
     },
     "user_tz": -330
    },
    "id": "ee3cc0a8-b26b-4203-a727-e667169a5ab4",
    "outputId": "dc0778ad-9336-43f5-fbd8-46bd904e9d55"
   },
   "outputs": [
    {
     "name": "stdout",
     "output_type": "stream",
     "text": [
      "~~~~~~~~~~~~~~~~~~~~~~~~~~~~~~~~~~~~~~~~~~~~~~~~~~~~~~~~~~~~~~~~~~~~~~~~~~~~~~~~~~~~~~~~~~~~~~~~~~~~ PREDICTIONS\n"
     ]
    },
    {
     "data": {
      "text/plain": [
       "[<tf.Tensor: shape=(), dtype=string, numpy=b'set green it v sinee soon'>,\n",
       " <tf.Tensor: shape=(), dtype=string, numpy=b'place white by m fiven soon'>]"
      ]
     },
     "execution_count": 165,
     "metadata": {},
     "output_type": "execute_result"
    }
   ],
   "source": [
    "print('~'*100, 'PREDICTIONS')\n",
    "[tf.strings.reduce_join([num_to_char(word) for word in sentence]) for sentence in decoded]"
   ]
  },
  {
   "cell_type": "markdown",
   "id": "b0c7088e-4dd0-4d15-b53c-3ceebdfb9fea",
   "metadata": {
    "id": "b0c7088e-4dd0-4d15-b53c-3ceebdfb9fea"
   },
   "source": [
    "# Test on a video"
   ]
  },
  {
   "cell_type": "code",
   "execution_count": null,
   "id": "c9ec986c-a44f-4663-b7d5-802c9bd23ada",
   "metadata": {
    "id": "c9ec986c-a44f-4663-b7d5-802c9bd23ada"
   },
   "outputs": [],
   "source": [
    "sample = load_data(tf.convert_to_tensor('./data/s1/bbie8n.mpg'))\n"
   ]
  },
  {
   "cell_type": "code",
   "execution_count": null,
   "id": "4ffeec5c-c24e-460e-90e9-f99f96faaca4",
   "metadata": {
    "colab": {
     "base_uri": "https://localhost:8080/"
    },
    "executionInfo": {
     "elapsed": 79,
     "status": "ok",
     "timestamp": 1747323857270,
     "user": {
      "displayName": "Samiksha Gariya",
      "userId": "03650219270827503100"
     },
     "user_tz": -330
    },
    "id": "4ffeec5c-c24e-460e-90e9-f99f96faaca4",
    "outputId": "95f36baa-2c2f-4a7c-ffc4-12946a19a0a1"
   },
   "outputs": [
    {
     "name": "stdout",
     "output_type": "stream",
     "text": [
      "~~~~~~~~~~~~~~~~~~~~~~~~~~~~~~~~~~~~~~~~~~~~~~~~~~~~~~~~~~~~~~~~~~~~~~~~~~~~~~~~~~~~~~~~~~~~~~~~~~~~ REAL TEXT\n"
     ]
    },
    {
     "data": {
      "text/plain": [
       "[<tf.Tensor: shape=(), dtype=string, numpy=b'bin blue in e eight now'>]"
      ]
     },
     "execution_count": 175,
     "metadata": {},
     "output_type": "execute_result"
    }
   ],
   "source": [
    "print('~'*100, 'REAL TEXT')\n",
    "[tf.strings.reduce_join([num_to_char(word) for word in sentence]) for sentence in [sample[1]]]"
   ]
  },
  {
   "cell_type": "code",
   "execution_count": null,
   "id": "1e94c337-b3a4-42dd-a793-04e06898b77b",
   "metadata": {
    "colab": {
     "base_uri": "https://localhost:8080/"
    },
    "executionInfo": {
     "elapsed": 201,
     "status": "ok",
     "timestamp": 1747323859844,
     "user": {
      "displayName": "Samiksha Gariya",
      "userId": "03650219270827503100"
     },
     "user_tz": -330
    },
    "id": "1e94c337-b3a4-42dd-a793-04e06898b77b",
    "outputId": "6cd0a57f-9afe-4847-b76f-15e0e10e380a"
   },
   "outputs": [
    {
     "name": "stdout",
     "output_type": "stream",
     "text": [
      "\u001b[1m1/1\u001b[0m \u001b[32m━━━━━━━━━━━━━━━━━━━━\u001b[0m\u001b[37m\u001b[0m \u001b[1m0s\u001b[0m 187ms/step\n"
     ]
    }
   ],
   "source": [
    "yhat = model.predict(tf.expand_dims(sample[0], axis=0))\n"
   ]
  },
  {
   "cell_type": "code",
   "execution_count": null,
   "id": "d50a0989-211a-44a1-acd0-6df1b4771978",
   "metadata": {
    "id": "d50a0989-211a-44a1-acd0-6df1b4771978"
   },
   "outputs": [],
   "source": [
    "decoded, _ = tf.keras.backend.ctc_decode(yhat, input_length=[75], greedy=False, beam_width=20)\n",
    "decoded = decoded[0].numpy()"
   ]
  },
  {
   "cell_type": "code",
   "execution_count": null,
   "id": "ca361845-8329-461e-a7fd-e1b482c86c43",
   "metadata": {
    "colab": {
     "base_uri": "https://localhost:8080/"
    },
    "executionInfo": {
     "elapsed": 104,
     "status": "ok",
     "timestamp": 1747325549011,
     "user": {
      "displayName": "Samiksha Gariya",
      "userId": "03650219270827503100"
     },
     "user_tz": -330
    },
    "id": "ca361845-8329-461e-a7fd-e1b482c86c43",
    "outputId": "39e0d9ac-15c0-4409-dd3c-b5fdc13b31ff"
   },
   "outputs": [
    {
     "name": "stdout",
     "output_type": "stream",
     "text": [
      "~~~~~~~~~~~~~~~~~~~~~~~~~~~~~~~~~~~~~~~~~~~~~~~~~~~~~~~~~~~~~~~~~~~~~~~~~~~~~~~~~~~~~~~~~~~~~~~~~~~~ PREDICTIONS\n"
     ]
    },
    {
     "data": {
      "text/plain": [
       "[<tf.Tensor: shape=(), dtype=string, numpy=b'bin blue it g eight now'>]"
      ]
     },
     "execution_count": 189,
     "metadata": {},
     "output_type": "execute_result"
    }
   ],
   "source": [
    "print('~'*100, 'PREDICTIONS')\n",
    "[tf.strings.reduce_join([num_to_char(word) for word in sentence]) for sentence in decoded]\n"
   ]
  },
  {
   "cell_type": "code",
   "execution_count": 3,
   "id": "LD0FTgUipPQu",
   "metadata": {
    "colab": {
     "base_uri": "https://localhost:8080/"
    },
    "executionInfo": {
     "elapsed": 7474,
     "status": "ok",
     "timestamp": 1747643092571,
     "user": {
      "displayName": "Samiksha Gariya",
      "userId": "03650219270827503100"
     },
     "user_tz": -330
    },
    "id": "LD0FTgUipPQu",
    "outputId": "fdf00f0e-ca5a-4c2b-9fc8-903ebd602c9b"
   },
   "outputs": [
    {
     "name": "stdout",
     "output_type": "stream",
     "text": [
      "Collecting levenshtein\n",
      "  Downloading levenshtein-0.27.1-cp311-cp311-manylinux_2_17_x86_64.manylinux2014_x86_64.whl.metadata (3.6 kB)\n",
      "Collecting rapidfuzz<4.0.0,>=3.9.0 (from levenshtein)\n",
      "  Downloading rapidfuzz-3.13.0-cp311-cp311-manylinux_2_17_x86_64.manylinux2014_x86_64.whl.metadata (12 kB)\n",
      "Downloading levenshtein-0.27.1-cp311-cp311-manylinux_2_17_x86_64.manylinux2014_x86_64.whl (161 kB)\n",
      "\u001b[2K   \u001b[90m━━━━━━━━━━━━━━━━━━━━━━━━━━━━━━━━━━━━━━━━\u001b[0m \u001b[32m161.7/161.7 kB\u001b[0m \u001b[31m6.6 MB/s\u001b[0m eta \u001b[36m0:00:00\u001b[0m\n",
      "\u001b[?25hDownloading rapidfuzz-3.13.0-cp311-cp311-manylinux_2_17_x86_64.manylinux2014_x86_64.whl (3.1 MB)\n",
      "\u001b[2K   \u001b[90m━━━━━━━━━━━━━━━━━━━━━━━━━━━━━━━━━━━━━━━━\u001b[0m \u001b[32m3.1/3.1 MB\u001b[0m \u001b[31m68.8 MB/s\u001b[0m eta \u001b[36m0:00:00\u001b[0m\n",
      "\u001b[?25hInstalling collected packages: rapidfuzz, levenshtein\n",
      "Successfully installed levenshtein-0.27.1 rapidfuzz-3.13.0\n"
     ]
    }
   ],
   "source": [
    "!pip install levenshtein"
   ]
  },
  {
   "cell_type": "code",
   "execution_count": 4,
   "id": "sLeKDgIXn-Td",
   "metadata": {
    "executionInfo": {
     "elapsed": 30,
     "status": "ok",
     "timestamp": 1747643094587,
     "user": {
      "displayName": "Samiksha Gariya",
      "userId": "03650219270827503100"
     },
     "user_tz": -330
    },
    "id": "sLeKDgIXn-Td"
   },
   "outputs": [],
   "source": [
    "from Levenshtein import distance as levenshtein_distance"
   ]
  },
  {
   "cell_type": "code",
   "execution_count": 5,
   "id": "N8w6rQBboRN2",
   "metadata": {
    "executionInfo": {
     "elapsed": 15,
     "status": "ok",
     "timestamp": 1747643097754,
     "user": {
      "displayName": "Samiksha Gariya",
      "userId": "03650219270827503100"
     },
     "user_tz": -330
    },
    "id": "N8w6rQBboRN2"
   },
   "outputs": [],
   "source": [
    "ground_truth= \"bin blue in e eight now\""
   ]
  },
  {
   "cell_type": "code",
   "execution_count": 6,
   "id": "RVFp54CSoWLa",
   "metadata": {
    "executionInfo": {
     "elapsed": 27,
     "status": "ok",
     "timestamp": 1747643098188,
     "user": {
      "displayName": "Samiksha Gariya",
      "userId": "03650219270827503100"
     },
     "user_tz": -330
    },
    "id": "RVFp54CSoWLa"
   },
   "outputs": [],
   "source": [
    "prediction= \"bin blue it g eight now\""
   ]
  },
  {
   "cell_type": "code",
   "execution_count": 7,
   "id": "6S1icbtfoASV",
   "metadata": {
    "executionInfo": {
     "elapsed": 3,
     "status": "ok",
     "timestamp": 1747643098765,
     "user": {
      "displayName": "Samiksha Gariya",
      "userId": "03650219270827503100"
     },
     "user_tz": -330
    },
    "id": "6S1icbtfoASV"
   },
   "outputs": [],
   "source": [
    "def levenshtein_distance(a: str, b: str) -> int:\n",
    "    dp = [[0] * (len(b) + 1) for _ in range(len(a) + 1)]\n",
    "    for i in range(len(a) + 1): dp[i][0] = i\n",
    "    for j in range(len(b) + 1): dp[0][j] = j\n",
    "    for i in range(1, len(a) + 1):\n",
    "        for j in range(1, len(b) + 1):\n",
    "            cost = 0 if a[i - 1] == b[j - 1] else 1\n",
    "            dp[i][j] = min(\n",
    "                dp[i - 1][j] + 1,\n",
    "                dp[i][j - 1] + 1,\n",
    "                dp[i - 1][j - 1] + cost\n",
    "            )\n",
    "    return dp[-1][-1]"
   ]
  },
  {
   "cell_type": "code",
   "execution_count": 8,
   "id": "jbppOFXToClW",
   "metadata": {
    "executionInfo": {
     "elapsed": 19,
     "status": "ok",
     "timestamp": 1747643099601,
     "user": {
      "displayName": "Samiksha Gariya",
      "userId": "03650219270827503100"
     },
     "user_tz": -330
    },
    "id": "jbppOFXToClW"
   },
   "outputs": [],
   "source": [
    "# Compute metrics\n",
    "lev_dist = levenshtein_distance(ground_truth, prediction)\n",
    "normalized = lev_dist / max(len(ground_truth), 1)\n",
    "accuracy = 1 - normalized"
   ]
  },
  {
   "cell_type": "code",
   "execution_count": 9,
   "id": "Zcx7kdvtoqzG",
   "metadata": {
    "colab": {
     "base_uri": "https://localhost:8080/"
    },
    "executionInfo": {
     "elapsed": 16,
     "status": "ok",
     "timestamp": 1747643100326,
     "user": {
      "displayName": "Samiksha Gariya",
      "userId": "03650219270827503100"
     },
     "user_tz": -330
    },
    "id": "Zcx7kdvtoqzG",
    "outputId": "c30eaff8-746c-4d4c-aa07-50bdcd9212b1"
   },
   "outputs": [
    {
     "name": "stdout",
     "output_type": "stream",
     "text": [
      "~~~~~~~~~~~~~~~~~~~~~~~~~~~~~~~~~~~~~~~~~~~~~~~~~~~~~~~~~~~~~~~~~~~~~~~~~~~~~~~~~~~~~~~~~~~~~~~~~~~~\n",
      "GROUND TRUTH:  bin blue in e eight now\n",
      "PREDICTION:    bin blue it g eight now\n",
      "LEVENSHTEIN DISTANCE:  2\n",
      "NORMALIZED DISTANCE:  0.087\n",
      "ESTIMATED ACCURACY:   91.3 %\n"
     ]
    }
   ],
   "source": [
    "# Print report\n",
    "print(\"~\" * 100)\n",
    "print(\"GROUND TRUTH: \", ground_truth)\n",
    "print(\"PREDICTION:   \", prediction)\n",
    "print(\"LEVENSHTEIN DISTANCE: \", lev_dist)\n",
    "print(\"NORMALIZED DISTANCE: \", round(normalized, 3))\n",
    "print(\"ESTIMATED ACCURACY:  \", round(accuracy * 100, 2), \"%\")"
   ]
  },
  {
   "cell_type": "code",
   "execution_count": 13,
   "id": "vpm5ivMQ5HwV",
   "metadata": {
    "colab": {
     "base_uri": "https://localhost:8080/",
     "height": 468
    },
    "executionInfo": {
     "elapsed": 312,
     "status": "ok",
     "timestamp": 1747643404094,
     "user": {
      "displayName": "Samiksha Gariya",
      "userId": "03650219270827503100"
     },
     "user_tz": -330
    },
    "id": "vpm5ivMQ5HwV",
    "outputId": "bc0c9ede-fa27-4da1-9a5c-6e8378f0c43e"
   },
   "outputs": [
    {
     "data": {
      "image/png": "[encoded data removed]",
      "text/plain": [
       "<Figure size 700x400 with 1 Axes>"
      ]
     },
     "metadata": {},
     "output_type": "display_data"
    }
   ],
   "source": [
    "# Plotting\n",
    "plt.figure(figsize=(7, 4))\n",
    "metrics = [\"Levenshtein\", \"Normalized\", \"Accuracy\"]\n",
    "scores = [lev_dist, normalized, accuracy]\n",
    "colors = [\"skyblue\", \"lightgreen\", \"salmon\"]\n",
    "\n",
    "bars = plt.bar(metrics, scores, color=colors)\n",
    "\n",
    "# Annotate bars\n",
    "for bar, score in zip(bars, scores):\n",
    "    plt.text(bar.get_x() + bar.get_width() / 2,\n",
    "             bar.get_height() + 0.05,\n",
    "             f\"{score:.3f}\",\n",
    "             ha='center', va='bottom', fontsize=10)\n",
    "\n",
    "# Adjust y-axis to fit high value\n",
    "plt.ylim(0, max(scores) + 0.6)\n",
    "\n",
    "# Main label moved below graph\n",
    "plt.figtext(0.5, -0.1, \"Levenshtein and Accuracy Metrics\\n(Ground truth vs Prediction)\",\n",
    "            wrap=True, horizontalalignment='center', fontsize=12)\n",
    "\n",
    "plt.ylabel(\"Score\")\n",
    "plt.tight_layout()\n",
    "plt.show()"
   ]
  },
  {
   "cell_type": "code",
   "execution_count": 3,
   "id": "QMh3e6_Zn5bC",
   "metadata": {
    "id": "QMh3e6_Zn5bC"
   },
   "outputs": [
    {
     "name": "stdout",
     "output_type": "stream",
     "text": [
      "Collecting jiwer\n",
      "  Downloading jiwer-3.1.0-py3-none-any.whl.metadata (2.6 kB)\n",
      "Requirement already satisfied: click>=8.1.8 in c:\\users\\samiksha gariya\\appdata\\local\\programs\\python\\python310\\lib\\site-packages (from jiwer) (8.1.8)\n",
      "Requirement already satisfied: rapidfuzz>=3.9.7 in c:\\users\\samiksha gariya\\appdata\\local\\programs\\python\\python310\\lib\\site-packages (from jiwer) (3.13.0)\n",
      "Requirement already satisfied: colorama in c:\\users\\samiksha gariya\\appdata\\local\\programs\\python\\python310\\lib\\site-packages (from click>=8.1.8->jiwer) (0.4.6)\n",
      "Downloading jiwer-3.1.0-py3-none-any.whl (22 kB)\n",
      "Installing collected packages: jiwer\n",
      "Successfully installed jiwer-3.1.0\n"
     ]
    },
    {
     "name": "stderr",
     "output_type": "stream",
     "text": [
      "\n",
      "[notice] A new release of pip is available: 25.0.1 -> 25.1.1\n",
      "[notice] To update, run: python.exe -m pip install --upgrade pip\n"
     ]
    }
   ],
   "source": [
    "!pip install jiwer\n"
   ]
  },
  {
   "cell_type": "code",
   "execution_count": 4,
   "id": "ed7cfe0b-2352-48e7-a521-9f17d0aaa45d",
   "metadata": {
    "id": "QMh3e6_Zn5bC"
   },
   "outputs": [
    {
     "name": "stdout",
     "output_type": "stream",
     "text": [
      "Word Error Rates: [0.3333333333333333]\n",
      "Average WER: 0.3333333333333333\n"
     ]
    }
   ],
   "source": [
    "from jiwer import wer\n",
    "\n",
    "predictions = []      \n",
    "ground_truths = [] \n",
    "\n",
    "# Calculate WER for each prediction and average\n",
    "wers = [wer(gt, pred) for gt, pred in zip(ground_truths, predictions)]\n",
    "average_wer = sum(wers) / len(wers)\n",
    "\n",
    "print(\"Word Error Rates:\", wers)\n",
    "print(\"Average WER:\", average_wer)\n"
   ]
  },
  {
   "cell_type": "code",
   "execution_count": 7,
   "id": "6399546e-13b0-4466-8952-374e4a986c5f",
   "metadata": {},
   "outputs": [
    {
     "name": "stdout",
     "output_type": "stream",
     "text": [
      "   Sample #                Ground Truth                  Prediction       WER\n",
      "0         1     bin blue in e eight now     bin blue it g eight now  0.333333\n",
      "1         2  lay blue at e eight please  lay blue at d eight please  0.166667\n"
     ]
    },
    {
     "data": {
      "image/png": "[encoded data removed]",
      "text/plain": [
       "<Figure size 1000x500 with 1 Axes>"
      ]
     },
     "metadata": {},
     "output_type": "display_data"
    }
   ],
   "source": [
    "from jiwer import wer\n",
    "import pandas as pd\n",
    "import matplotlib.pyplot as plt\n",
    "\n",
    "# Replace these with your actual prediction and ground truth lists\n",
    "predictions = [\n",
    "    \"bin blue it g eight now\",\n",
    "    \"lay blue at d eight please\"\n",
    "]\n",
    "ground_truths = [\n",
    "    \"bin blue in e eight now\",\n",
    "    \"lay blue at e eight please\"\n",
    "]\n",
    "\n",
    "# Compute WER for each pair\n",
    "wers = [wer(gt, pred) for gt, pred in zip(ground_truths, predictions)]\n",
    "\n",
    "# Create a DataFrame for analysis and plotting\n",
    "df_wer = pd.DataFrame({\n",
    "    \"Sample #\": range(1, len(predictions)+1),\n",
    "    \"Ground Truth\": ground_truths,\n",
    "    \"Prediction\": predictions,\n",
    "    \"WER\": wers\n",
    "})\n",
    "\n",
    "# Display the DataFrame\n",
    "print(df_wer)\n",
    "\n",
    "# Plot WER per sample\n",
    "plt.figure(figsize=(10, 5))\n",
    "plt.plot(df_wer[\"Sample #\"], df_wer[\"WER\"], marker='o', linestyle='-', color='teal')\n",
    "plt.title(\"Word Error Rate (WER) per Sample\")\n",
    "plt.xlabel(\"Sample #\")\n",
    "plt.ylabel(\"WER\")\n",
    "plt.ylim(0, 1)\n",
    "plt.grid(True)\n",
    "plt.show()\n"
   ]
  },
  {
   "cell_type": "code",
   "execution_count": null,
   "id": "c6a2caf7-0f23-46e5-a515-6ec2eea2edba",
   "metadata": {},
   "outputs": [],
   "source": []
  }
 ],
 "metadata": {
  "accelerator": "GPU",
  "colab": {
   "gpuType": "T4",
   "machine_shape": "hm",
   "provenance": []
  },
  "kernelspec": {
   "display_name": "Python 3",
   "language": "python",
   "name": "python3"
  },
  "language_info": {
   "codemirror_mode": {
    "name": "ipython",
    "version": 3
   },
   "file_extension": ".py",
   "mimetype": "text/x-python",
   "name": "python",
   "nbconvert_exporter": "python",
   "pygments_lexer": "ipython3",
   "version": "3.10.11"
  }
 },
 "nbformat": 4,
 "nbformat_minor": 5
}
